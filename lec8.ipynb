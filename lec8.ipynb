{
 "cells": [
  {
   "cell_type": "code",
   "execution_count": 1,
   "metadata": {},
   "outputs": [
    {
     "name": "stdout",
     "output_type": "stream",
     "text": [
      "rno: 4 no: 123 digit: 4\n",
      "rno: 43 no: 12 digit: 3\n",
      "rno: 432 no: 1 digit: 2\n",
      "rno: 4321 no: 0 digit: 1\n"
     ]
    }
   ],
   "source": [
    "#reverse a number(not just print)\n",
    "\n",
    "num=int(input(\"Enter any number: \"))\n",
    "rno=0\n",
    "while num>0:\n",
    "    digit=num%10\n",
    "    rno=rno*10+digit\n",
    "    num=num//10\n",
    "    print(f\"rno: {rno} no: {num} digit: {digit}\")\n"
   ]
  },
  {
   "cell_type": "code",
   "execution_count": 15,
   "metadata": {},
   "outputs": [
    {
     "name": "stdout",
     "output_type": "stream",
     "text": [
      "Yes 101 is palindrome\n",
      "Yes 111 is palindrome\n",
      "Yes 121 is palindrome\n",
      "Yes 131 is palindrome\n",
      "Yes 141 is palindrome\n",
      "Yes 151 is palindrome\n",
      "Yes 161 is palindrome\n",
      "Yes 171 is palindrome\n",
      "Yes 181 is palindrome\n",
      "Yes 191 is palindrome\n",
      "Yes 202 is palindrome\n",
      "Yes 212 is palindrome\n",
      "Yes 222 is palindrome\n",
      "Yes 232 is palindrome\n",
      "Yes 242 is palindrome\n",
      "Yes 252 is palindrome\n",
      "Yes 262 is palindrome\n",
      "Yes 272 is palindrome\n",
      "Yes 282 is palindrome\n",
      "Yes 292 is palindrome\n",
      "Yes 303 is palindrome\n",
      "Yes 313 is palindrome\n",
      "Yes 323 is palindrome\n",
      "Yes 333 is palindrome\n",
      "Yes 343 is palindrome\n",
      "Yes 353 is palindrome\n",
      "Yes 363 is palindrome\n",
      "Yes 373 is palindrome\n",
      "Yes 383 is palindrome\n",
      "Yes 393 is palindrome\n",
      "Yes 404 is palindrome\n",
      "Yes 414 is palindrome\n",
      "Yes 424 is palindrome\n",
      "Yes 434 is palindrome\n",
      "Yes 444 is palindrome\n",
      "Yes 454 is palindrome\n",
      "Yes 464 is palindrome\n",
      "Yes 474 is palindrome\n",
      "Yes 484 is palindrome\n",
      "Yes 494 is palindrome\n",
      "Yes 505 is palindrome\n",
      "Yes 515 is palindrome\n",
      "Yes 525 is palindrome\n",
      "Yes 535 is palindrome\n",
      "Yes 545 is palindrome\n",
      "Yes 555 is palindrome\n",
      "Yes 565 is palindrome\n",
      "Yes 575 is palindrome\n",
      "Yes 585 is palindrome\n",
      "Yes 595 is palindrome\n",
      "Yes 606 is palindrome\n",
      "Yes 616 is palindrome\n",
      "Yes 626 is palindrome\n",
      "Yes 636 is palindrome\n",
      "Yes 646 is palindrome\n",
      "Yes 656 is palindrome\n",
      "Yes 666 is palindrome\n",
      "Yes 676 is palindrome\n",
      "Yes 686 is palindrome\n",
      "Yes 696 is palindrome\n",
      "Yes 707 is palindrome\n",
      "Yes 717 is palindrome\n",
      "Yes 727 is palindrome\n",
      "Yes 737 is palindrome\n",
      "Yes 747 is palindrome\n",
      "Yes 757 is palindrome\n",
      "Yes 767 is palindrome\n",
      "Yes 777 is palindrome\n",
      "Yes 787 is palindrome\n",
      "Yes 797 is palindrome\n",
      "Yes 808 is palindrome\n",
      "Yes 818 is palindrome\n",
      "Yes 828 is palindrome\n",
      "Yes 838 is palindrome\n",
      "Yes 848 is palindrome\n",
      "Yes 858 is palindrome\n",
      "Yes 868 is palindrome\n",
      "Yes 878 is palindrome\n",
      "Yes 888 is palindrome\n",
      "Yes 898 is palindrome\n",
      "Yes 909 is palindrome\n",
      "Yes 919 is palindrome\n",
      "Yes 929 is palindrome\n",
      "Yes 939 is palindrome\n",
      "Yes 949 is palindrome\n",
      "Yes 959 is palindrome\n",
      "Yes 969 is palindrome\n",
      "Yes 979 is palindrome\n",
      "Yes 989 is palindrome\n",
      "Yes 999 is palindrome\n",
      "Total palindromes are: 90\n"
     ]
    }
   ],
   "source": [
    "#using the above logic find palindrome numbers from 100 to 999\n",
    "count=0\n",
    "temp=0\n",
    "for i in range(100,1000):\n",
    "    rno=0\n",
    "    temp=i\n",
    "    while i>0:\n",
    "        digit=i%10\n",
    "        rno=rno*10+digit\n",
    "        i=i//10\n",
    "        #print(temp)\n",
    "        if rno==temp:\n",
    "            print(f\"Yes {temp} is palindrome\")\n",
    "            count += 1\n",
    "\n",
    "print(f\"Total palindromes are: {count}\")"
   ]
  },
  {
   "cell_type": "code",
   "execution_count": 16,
   "metadata": {},
   "outputs": [
    {
     "name": "stdout",
     "output_type": "stream",
     "text": [
      "Factorial is 1307674368000\n"
     ]
    }
   ],
   "source": [
    "#factorial of number\n",
    "#not to be used as first option\n",
    "#if iterative does not work then use recursion as last option\n",
    "#as it consumes more memory and slows down the program\n",
    "def fact(no):\n",
    "    if no==1:\n",
    "        return 1\n",
    "    else:\n",
    "        return no*fact(no-1)  \n",
    "\n",
    "print(f\"Factorial is {fact(15)}\")  "
   ]
  },
  {
   "cell_type": "code",
   "execution_count": 18,
   "metadata": {},
   "outputs": [
    {
     "name": "stdout",
     "output_type": "stream",
     "text": [
      "24\n"
     ]
    }
   ],
   "source": [
    "def factorial(no):\n",
    "    if no==0:\n",
    "        return 0\n",
    "    elif no==1:\n",
    "        return 1\n",
    "    else:\n",
    "        return no*fact(no-1)*fact(no-2)\n",
    "\n",
    "print(fact(4))"
   ]
  },
  {
   "cell_type": "code",
   "execution_count": 22,
   "metadata": {},
   "outputs": [
    {
     "ename": "KeyboardInterrupt",
     "evalue": "",
     "output_type": "error",
     "traceback": [
      "\u001b[1;31m---------------------------------------------------------------------------\u001b[0m",
      "\u001b[1;31mKeyboardInterrupt\u001b[0m                         Traceback (most recent call last)",
      "\u001b[1;32mc:\\ACT_PRACTICE\\lec8.ipynb Cell 5\u001b[0m in \u001b[0;36m<module>\u001b[1;34m\u001b[0m\n\u001b[0;32m      <a href='vscode-notebook-cell:/c%3A/ACT_PRACTICE/lec8.ipynb#W4sZmlsZQ%3D%3D?line=5'>6</a>\u001b[0m     \u001b[39melse\u001b[39;00m:\n\u001b[0;32m      <a href='vscode-notebook-cell:/c%3A/ACT_PRACTICE/lec8.ipynb#W4sZmlsZQ%3D%3D?line=6'>7</a>\u001b[0m         \u001b[39mreturn\u001b[39;00m fibnonacci(no\u001b[39m-\u001b[39m\u001b[39m1\u001b[39m)\u001b[39m+\u001b[39mfibnonacci(no\u001b[39m-\u001b[39m\u001b[39m2\u001b[39m)\n\u001b[1;32m----> <a href='vscode-notebook-cell:/c%3A/ACT_PRACTICE/lec8.ipynb#W4sZmlsZQ%3D%3D?line=8'>9</a>\u001b[0m \u001b[39mprint\u001b[39m(fibnonacci(\u001b[39m100\u001b[39;49m))\n",
      "\u001b[1;32mc:\\ACT_PRACTICE\\lec8.ipynb Cell 5\u001b[0m in \u001b[0;36mfibnonacci\u001b[1;34m(no)\u001b[0m\n\u001b[0;32m      <a href='vscode-notebook-cell:/c%3A/ACT_PRACTICE/lec8.ipynb#W4sZmlsZQ%3D%3D?line=4'>5</a>\u001b[0m     \u001b[39mreturn\u001b[39;00m \u001b[39m1\u001b[39m\n\u001b[0;32m      <a href='vscode-notebook-cell:/c%3A/ACT_PRACTICE/lec8.ipynb#W4sZmlsZQ%3D%3D?line=5'>6</a>\u001b[0m \u001b[39melse\u001b[39;00m:\n\u001b[1;32m----> <a href='vscode-notebook-cell:/c%3A/ACT_PRACTICE/lec8.ipynb#W4sZmlsZQ%3D%3D?line=6'>7</a>\u001b[0m     \u001b[39mreturn\u001b[39;00m fibnonacci(no\u001b[39m-\u001b[39;49m\u001b[39m1\u001b[39;49m)\u001b[39m+\u001b[39mfibnonacci(no\u001b[39m-\u001b[39m\u001b[39m2\u001b[39m)\n",
      "\u001b[1;32mc:\\ACT_PRACTICE\\lec8.ipynb Cell 5\u001b[0m in \u001b[0;36mfibnonacci\u001b[1;34m(no)\u001b[0m\n\u001b[0;32m      <a href='vscode-notebook-cell:/c%3A/ACT_PRACTICE/lec8.ipynb#W4sZmlsZQ%3D%3D?line=4'>5</a>\u001b[0m     \u001b[39mreturn\u001b[39;00m \u001b[39m1\u001b[39m\n\u001b[0;32m      <a href='vscode-notebook-cell:/c%3A/ACT_PRACTICE/lec8.ipynb#W4sZmlsZQ%3D%3D?line=5'>6</a>\u001b[0m \u001b[39melse\u001b[39;00m:\n\u001b[1;32m----> <a href='vscode-notebook-cell:/c%3A/ACT_PRACTICE/lec8.ipynb#W4sZmlsZQ%3D%3D?line=6'>7</a>\u001b[0m     \u001b[39mreturn\u001b[39;00m fibnonacci(no\u001b[39m-\u001b[39;49m\u001b[39m1\u001b[39;49m)\u001b[39m+\u001b[39mfibnonacci(no\u001b[39m-\u001b[39m\u001b[39m2\u001b[39m)\n",
      "    \u001b[1;31m[... skipping similar frames: fibnonacci at line 7 (86 times)]\u001b[0m\n",
      "\u001b[1;32mc:\\ACT_PRACTICE\\lec8.ipynb Cell 5\u001b[0m in \u001b[0;36mfibnonacci\u001b[1;34m(no)\u001b[0m\n\u001b[0;32m      <a href='vscode-notebook-cell:/c%3A/ACT_PRACTICE/lec8.ipynb#W4sZmlsZQ%3D%3D?line=4'>5</a>\u001b[0m     \u001b[39mreturn\u001b[39;00m \u001b[39m1\u001b[39m\n\u001b[0;32m      <a href='vscode-notebook-cell:/c%3A/ACT_PRACTICE/lec8.ipynb#W4sZmlsZQ%3D%3D?line=5'>6</a>\u001b[0m \u001b[39melse\u001b[39;00m:\n\u001b[1;32m----> <a href='vscode-notebook-cell:/c%3A/ACT_PRACTICE/lec8.ipynb#W4sZmlsZQ%3D%3D?line=6'>7</a>\u001b[0m     \u001b[39mreturn\u001b[39;00m fibnonacci(no\u001b[39m-\u001b[39m\u001b[39m1\u001b[39m)\u001b[39m+\u001b[39mfibnonacci(no\u001b[39m-\u001b[39m\u001b[39m2\u001b[39m)\n",
      "\u001b[1;31mKeyboardInterrupt\u001b[0m: "
     ]
    }
   ],
   "source": [
    "def fibnonacci(no):\n",
    "    if no==0:\n",
    "        return 0\n",
    "    elif no==1:\n",
    "        return 1\n",
    "    else:\n",
    "        return fibnonacci(no-1)+fibnonacci(no-2)\n",
    "    \n",
    "print(fibnonacci(100))"
   ]
  },
  {
   "cell_type": "code",
   "execution_count": 28,
   "metadata": {},
   "outputs": [
    {
     "name": "stdout",
     "output_type": "stream",
     "text": [
      "37 is prime\n"
     ]
    }
   ],
   "source": [
    "\"\"\" \n",
    "print prime or not\n",
    "\n",
    "\"\"\"\n",
    "\n",
    "num=int(input(\"Enter any number: \"))\n",
    "isPrime=True\n",
    "for i in range(2,num):\n",
    "    if(num%i==0):\n",
    "        isPrime=False\n",
    "        print(f\"{num} is not prime\")\n",
    "        break\n",
    "\n",
    "if(isPrime==True):\n",
    "    print(f\"{num} is prime\")\n",
    "\n"
   ]
  },
  {
   "cell_type": "code",
   "execution_count": 33,
   "metadata": {},
   "outputs": [
    {
     "name": "stdout",
     "output_type": "stream",
     "text": [
      "Invalid\n",
      "None\n"
     ]
    }
   ],
   "source": [
    "def max(no1,no2,no3):\n",
    "    if no1>no2 and no1>no3:\n",
    "        return no1\n",
    "    elif no2>no1 and no2>no3:\n",
    "        return no2\n",
    "    elif no3>no2 and no3>no1:\n",
    "        return no3\n",
    "    else:\n",
    "        print(\"Invalid\")\n",
    "\n",
    "print(max(69,69,14))"
   ]
  },
  {
   "cell_type": "code",
   "execution_count": 34,
   "metadata": {},
   "outputs": [
    {
     "data": {
      "text/plain": [
       "56"
      ]
     },
     "execution_count": 34,
     "metadata": {},
     "output_type": "execute_result"
    }
   ],
   "source": [
    "max(12,34,56)"
   ]
  },
  {
   "cell_type": "code",
   "execution_count": 35,
   "metadata": {},
   "outputs": [
    {
     "data": {
      "text/plain": [
       "101"
      ]
     },
     "execution_count": 35,
     "metadata": {},
     "output_type": "execute_result"
    }
   ],
   "source": [
    "sum([12,34,55])"
   ]
  },
  {
   "cell_type": "code",
   "execution_count": 42,
   "metadata": {},
   "outputs": [
    {
     "name": "stdout",
     "output_type": "stream",
     "text": [
      "Not binary\n"
     ]
    }
   ],
   "source": [
    "#check given number is binary or not\n",
    "num=int(input(\"Enter any number: \"))\n",
    "rno=0\n",
    "isbinary=True\n",
    "temp=num\n",
    "while num>0:\n",
    "    digit=num%10\n",
    "    if(digit!=0 and digit!=1):\n",
    "        isbinary=False\n",
    "        print(f\"Not binary\")\n",
    "        break\n",
    "    rno=rno*10+digit\n",
    "    num=num//10\n",
    "\n",
    "if isbinary==True:\n",
    "    print(f\"{temp} is binary\")\n",
    "\n",
    "\n",
    "\n"
   ]
  },
  {
   "cell_type": "code",
   "execution_count": 44,
   "metadata": {},
   "outputs": [
    {
     "name": "stdout",
     "output_type": "stream",
     "text": [
      "Alphabet: 6 Digits: 3  Symbols: 7\n"
     ]
    }
   ],
   "source": [
    "\"\"\" \n",
    "take a line and count \n",
    "words \n",
    "alph\n",
    "digits\n",
    "special symbols\n",
    "\"\"\"\n",
    "ca=cd=cs=0\n",
    "line=input(\"Enter any string\")\n",
    "line.lower()\n",
    "for i in line:\n",
    "    if ord('a')<=ord(i)<=ord('z'):\n",
    "        ca += 1\n",
    "    elif ord('0')<=ord(i)<=ord('9'):\n",
    "        cd += 1\n",
    "    else:\n",
    "        cs += 1\n",
    "\n",
    "print(f\"Alphabet: {ca} Digits: {cd}  Symbols: {cs}\")"
   ]
  },
  {
   "cell_type": "code",
   "execution_count": 52,
   "metadata": {},
   "outputs": [
    {
     "name": "stdout",
     "output_type": "stream",
     "text": [
      "5.0\n",
      "1\n",
      "2\n",
      "3\n"
     ]
    }
   ],
   "source": [
    "\"\"\" \n",
    "take number until user enters blank\n",
    "find avg from the list\n",
    "list down numbers greater than avg of list\n",
    "\"\"\"\n",
    "\n",
    "dlist=[]\n",
    "while True:\n",
    "    data=input(\"Enter data: \")\n",
    "    if data=='':\n",
    "        break\n",
    "    dlist.append(int(data))\n",
    "\n",
    "average=(sum(dlist)/len(dlist))\n",
    "print(average)\n",
    "anchor=dlist.index(average)\n",
    "\n",
    "for i in range(1,anchor+1):\n",
    "    print(i)\n"
   ]
  },
  {
   "cell_type": "code",
   "execution_count": 59,
   "metadata": {},
   "outputs": [
    {
     "name": "stdout",
     "output_type": "stream",
     "text": [
      "Second larget is 99\n"
     ]
    }
   ],
   "source": [
    "#find second largestd=\n",
    "d=[11,22,5,67,99,21111]\n",
    "d_=sorted(d)\n",
    "print(f\"Second larget is {d_[len(d_)-2]}\")"
   ]
  }
 ],
 "metadata": {
  "kernelspec": {
   "display_name": "Python 3",
   "language": "python",
   "name": "python3"
  },
  "language_info": {
   "codemirror_mode": {
    "name": "ipython",
    "version": 3
   },
   "file_extension": ".py",
   "mimetype": "text/x-python",
   "name": "python",
   "nbconvert_exporter": "python",
   "pygments_lexer": "ipython3",
   "version": "3.9.0 (tags/v3.9.0:9cf6752, Oct  5 2020, 15:34:40) [MSC v.1927 64 bit (AMD64)]"
  },
  "orig_nbformat": 4,
  "vscode": {
   "interpreter": {
    "hash": "52634da84371cba311ea128a5ea7cdc41ff074b781779e754b270ff9f8153cee"
   }
  }
 },
 "nbformat": 4,
 "nbformat_minor": 2
}
