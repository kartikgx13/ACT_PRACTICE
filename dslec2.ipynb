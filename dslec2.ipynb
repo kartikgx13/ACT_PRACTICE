{
 "cells": [
  {
   "cell_type": "code",
   "execution_count": null,
   "metadata": {},
   "outputs": [],
   "source": [
    "\"\"\"\n",
    "Types of queue:\n",
    "-->Linear\n",
    "-->Circular\n",
    "-->Double Ended\n",
    "-->Priority\n",
    "\n",
    "Drawbacks of linear queue:\n",
    "-->linear queue cannot reclaim spaces from dequeue\n",
    "-->for this circular queue came into picture\n",
    "\n",
    "Circular Queue:\n",
    "-->In this one can reclaim spaces which got free from dequeue\n",
    "-->Better utilization of space\n",
    "-->Can you explain movement of front and rear in circular queue:\n",
    "rear=(rear+1)%maxsize\n",
    "front=(front+1)%maxsize\n",
    "count: \n",
    "for every enqueue count is incremented  therefore count=maxsize(queue full)\n",
    "for every dequeue count is decremented  therefore count=0(queue empty)\n",
    "\n",
    "\"\"\""
   ]
  },
  {
   "cell_type": "code",
   "execution_count": null,
   "metadata": {},
   "outputs": [],
   "source": [
    "\"\"\"\n",
    "Linked List:\n",
    "-->Dynamic\n",
    "-->Linear\n",
    "-->most powerful as we can implement stack,queue,tree,graph by using this\n",
    "-->Defn:\n",
    "Collection of nodes arranged in seqeuntial manner where\n",
    "each node only knows node after it.\n",
    "\n",
    "|D|P| --> |D|P| --> |D|P| --> |D|Null\n",
    "\n",
    "-->First node is called head/left-most/root node\n",
    "-->Head node should never be lost as if it is lost all the\n",
    "other nodes will be also lost\n",
    "-->Last node has NULL pointer\n",
    "\n",
    "Why pointer was discontinued after C?\n",
    "-->The memory locations can be accessed so any data can be changed\n",
    "so cheatcodes can be created easily hence discarded\n",
    "\n",
    "Application area:\n",
    "-->Hyperlink as this also links pages in sequential manner\n",
    "-->Dynamic data storage(Inf data)\n",
    "-->For implementing stack and queue\n",
    "-->In Games (local buffering)\n",
    "-->The list can be traverses in only one direction\n",
    "-->polynomial addition\n",
    "\n",
    "\"\"\""
   ]
  }
 ],
 "metadata": {
  "kernelspec": {
   "display_name": "Python 3",
   "language": "python",
   "name": "python3"
  },
  "language_info": {
   "name": "python",
   "version": "3.9.0 (tags/v3.9.0:9cf6752, Oct  5 2020, 15:34:40) [MSC v.1927 64 bit (AMD64)]"
  },
  "orig_nbformat": 4,
  "vscode": {
   "interpreter": {
    "hash": "52634da84371cba311ea128a5ea7cdc41ff074b781779e754b270ff9f8153cee"
   }
  }
 },
 "nbformat": 4,
 "nbformat_minor": 2
}
