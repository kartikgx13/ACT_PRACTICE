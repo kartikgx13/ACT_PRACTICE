{
 "cells": [
  {
   "cell_type": "code",
   "execution_count": 4,
   "metadata": {},
   "outputs": [
    {
     "name": "stdout",
     "output_type": "stream",
     "text": [
      "Three\n"
     ]
    }
   ],
   "source": [
    "i=int(input(\"Enter i value: \"))\n",
    "if i==1:\n",
    "    print(\"One\")\n",
    "elif i==2:\n",
    "    pass                        #suppose we dont have the code for elif ready then for time being we can use pass so that there is no error thrown.\n",
    "elif i==3:                     #its a no operation statement used to complete a code block\n",
    "    print(\"Three\")\n"
   ]
  },
  {
   "cell_type": "code",
   "execution_count": null,
   "metadata": {},
   "outputs": [],
   "source": [
    "#data strcutures is a way to store and access data\n",
    "\"\"\"\n",
    "there are mainly four data structures in python\n",
    "\n",
    "list\n",
    "tuples\n",
    "set\n",
    "dictionary\n",
    "\n",
    "Among these lists is used most among users\n",
    "Internally tuples is most used by python\n",
    "\n",
    "\"\"\""
   ]
  },
  {
   "cell_type": "code",
   "execution_count": 5,
   "metadata": {},
   "outputs": [
    {
     "data": {
      "text/plain": [
       "list"
      ]
     },
     "execution_count": 5,
     "metadata": {},
     "output_type": "execute_result"
    }
   ],
   "source": [
    "datalist=[]\n",
    "type(datalist)"
   ]
  },
  {
   "cell_type": "code",
   "execution_count": 6,
   "metadata": {},
   "outputs": [
    {
     "data": {
      "text/plain": [
       "tuple"
      ]
     },
     "execution_count": 6,
     "metadata": {},
     "output_type": "execute_result"
    }
   ],
   "source": [
    "datalist1=()\n",
    "type(datalist1)"
   ]
  },
  {
   "cell_type": "code",
   "execution_count": 7,
   "metadata": {},
   "outputs": [
    {
     "data": {
      "text/plain": [
       "dict"
      ]
     },
     "execution_count": 7,
     "metadata": {},
     "output_type": "execute_result"
    }
   ],
   "source": [
    "datalist2={}\n",
    "type(datalist2)\n"
   ]
  },
  {
   "cell_type": "code",
   "execution_count": 9,
   "metadata": {},
   "outputs": [
    {
     "data": {
      "text/plain": [
       "set"
      ]
     },
     "execution_count": 9,
     "metadata": {},
     "output_type": "execute_result"
    }
   ],
   "source": [
    "datalist3={0}\n",
    "type(datalist3)"
   ]
  },
  {
   "cell_type": "code",
   "execution_count": 14,
   "metadata": {},
   "outputs": [
    {
     "name": "stdout",
     "output_type": "stream",
     "text": [
      "11 222 3333 44444 55555 "
     ]
    },
    {
     "data": {
      "text/plain": [
       "103565"
      ]
     },
     "execution_count": 14,
     "metadata": {},
     "output_type": "execute_result"
    }
   ],
   "source": [
    "numbers=[11,222,3333,44444,55555]\n",
    "for i in numbers:\n",
    "    print(i,end=\" \")\n",
    "\n",
    "numbers[0:2]\n",
    "\n",
    "sum(numbers)\n",
    "\n"
   ]
  },
  {
   "cell_type": "code",
   "execution_count": 25,
   "metadata": {},
   "outputs": [
    {
     "name": "stdout",
     "output_type": "stream",
     "text": [
      "[0, 1, 2, 3, 4, 5, 6, 7, 8, 9, 10, 11, 12, 13, 14, 15, 16, 17, 18, 19, 20, 21, 22, 23, 24, 25, 26, 27, 28, 29, 30, 31, 32, 33, 34, 35, 36, 37, 38, 39, 40, 41, 42, 43, 44, 45, 46, 47, 48, 49, 50, 51, 52, 53, 54, 55, 56, 57, 58, 59, 60, 61, 62, 63, 64, 65, 66, 67, 68, 69, 70, 71, 72, 73, 74, 75, 76, 77, 78, 79, 80, 81, 82, 83, 84, 85, 86, 87, 88, 89, 90, 91, 92, 93, 94, 95, 96, 97, 98, 99, 100]\n",
      "[0, 1, 2, 3, 4, 5, 6, 7, 8, 9, 10, 11, 12, 13, 14, 15, 16, 17, 18, 19, 20, 21, 22, 23, 24, 25, 26, 27, 28, 29, 30, 31, 32, 33, 34, 35, 36, 37, 38, 39, 40, 41, 42, 43, 44, 45, 46, 47, 48, 49, 50, 51, 52, 53, 54, 55, 56, 57, 58, 59, 60, 61, 62, 63, 64, 65, 66, 67, 68, 70, 71, 72, 73, 74, 75, 76, 77, 78, 79, 80, 81, 82, 83, 84, 85, 86, 87, 88, 89, 90, 91, 92, 93, 94, 95, 96, 97, 98, 99, 100]\n",
      "[100, 99, 98, 97, 96, 95, 94, 93, 92, 91, 90, 89, 88, 87, 86, 85, 84, 83, 82, 81, 80, 79, 78, 77, 76, 75, 74, 73, 72, 71, 70, 68, 67, 66, 65, 64, 63, 62, 61, 60, 59, 58, 57, 56, 55, 54, 53, 52, 51, 50, 49, 48, 47, 46, 45, 44, 43, 42, 41, 40, 39, 38, 37, 36, 35, 34, 33, 32, 31, 30, 29, 28, 27, 26, 25, 24, 23, 22, 21, 20, 19, 18, 17, 16, 15, 14, 13, 12, 11, 10, 9, 8, 7, 6, 5, 4, 3, 2, 1, 0]\n"
     ]
    }
   ],
   "source": [
    "list3=[i for i in range(0,101)]\n",
    "print(list3)\n",
    "list3.remove(69)\n",
    "print(list3)\n",
    "list3[::-1]                #not in place\n",
    "list3.reverse()             #in place because the list is now permanently reversed\n",
    "print(list3)\n",
    "\n"
   ]
  },
  {
   "cell_type": "code",
   "execution_count": 26,
   "metadata": {},
   "outputs": [
    {
     "name": "stdout",
     "output_type": "stream",
     "text": [
      "[11, 22, 33]\n",
      "[44, 55, 66]\n",
      "[77, 88, 99]\n"
     ]
    }
   ],
   "source": [
    "#nested loop\n",
    "list2d=[[11,22,33],[44,55,66],[77,88,99]]\n",
    "for i in list2d:\n",
    "    print(i)"
   ]
  },
  {
   "cell_type": "code",
   "execution_count": 28,
   "metadata": {},
   "outputs": [
    {
     "name": "stdout",
     "output_type": "stream",
     "text": [
      "11\n",
      "22\n",
      "33\n",
      "44\n",
      "55\n",
      "66\n",
      "77\n",
      "88\n",
      "99\n"
     ]
    }
   ],
   "source": [
    "list2d=[\n",
    "[11,22,33],\n",
    "[44,55,66],\n",
    "[77,88,99]\n",
    "]\n",
    "for row in list2d:\n",
    "    for element in row:\n",
    "        print(element)"
   ]
  },
  {
   "cell_type": "code",
   "execution_count": 34,
   "metadata": {},
   "outputs": [
    {
     "data": {
      "text/plain": [
       "99"
      ]
     },
     "execution_count": 34,
     "metadata": {},
     "output_type": "execute_result"
    }
   ],
   "source": [
    "list2d[2][2]   #tuples have less workability because they cannot be modified hence used by python internally for better security"
   ]
  },
  {
   "cell_type": "code",
   "execution_count": 35,
   "metadata": {},
   "outputs": [],
   "source": [
    "td=(34,21,11)"
   ]
  },
  {
   "cell_type": "code",
   "execution_count": 37,
   "metadata": {},
   "outputs": [],
   "source": [
    "td=(11,22,33)   #tuples cannot be modified but the elements can be replaced"
   ]
  },
  {
   "cell_type": "code",
   "execution_count": 38,
   "metadata": {},
   "outputs": [],
   "source": [
    "td=(1,2,3,[11,22,33])"
   ]
  },
  {
   "cell_type": "code",
   "execution_count": 40,
   "metadata": {},
   "outputs": [
    {
     "data": {
      "text/plain": [
       "(1, 2, 3, [11, 22, 33, 1000])"
      ]
     },
     "execution_count": 40,
     "metadata": {},
     "output_type": "execute_result"
    }
   ],
   "source": [
    "td[3].append(1000)  #this is to create a dynamic list inside a tuple\n",
    "td"
   ]
  },
  {
   "cell_type": "code",
   "execution_count": 41,
   "metadata": {},
   "outputs": [
    {
     "data": {
      "text/plain": [
       "{11, 34}"
      ]
     },
     "execution_count": 41,
     "metadata": {},
     "output_type": "execute_result"
    }
   ],
   "source": [
    "s=set()  #this creates an empty set #in sets no duplicate are allowed\n",
    "#suppose\n",
    "#QR stands for quick response code\n",
    "s.add(11)\n",
    "s.add(34)\n",
    "s.add(11)\n",
    "s\n"
   ]
  },
  {
   "cell_type": "code",
   "execution_count": 42,
   "metadata": {},
   "outputs": [
    {
     "data": {
      "text/plain": [
       "{11, 22, 33, 55, 444, 666, 777}"
      ]
     },
     "execution_count": 42,
     "metadata": {},
     "output_type": "execute_result"
    }
   ],
   "source": [
    "lista=[11,22,33,444,55,11,22,33,666,777,55]\n",
    "lista=set(lista)   #this removes all the duplicate in a list\n",
    "lista"
   ]
  },
  {
   "cell_type": "code",
   "execution_count": 43,
   "metadata": {},
   "outputs": [
    {
     "data": {
      "text/plain": [
       "'One'"
      ]
     },
     "execution_count": 43,
     "metadata": {},
     "output_type": "execute_result"
    }
   ],
   "source": [
    "d1={1:\"One\",2:\"Two\",3:\"Three\"}\n",
    "d1[1]"
   ]
  },
  {
   "cell_type": "code",
   "execution_count": 45,
   "metadata": {},
   "outputs": [
    {
     "data": {
      "text/plain": [
       "{1: 'One', 2: 'Two', 3: 'Three', 1.5: 'Dedh Shana'}"
      ]
     },
     "execution_count": 45,
     "metadata": {},
     "output_type": "execute_result"
    }
   ],
   "source": [
    "d1[1.5]=\"Dedh Shana\"  #for changing colours of fonts in backend\n",
    "d1"
   ]
  },
  {
   "cell_type": "code",
   "execution_count": 67,
   "metadata": {},
   "outputs": [
    {
     "name": "stdout",
     "output_type": "stream",
     "text": [
      "Enter each element: \n",
      "['11', '22', '33', '44', '11']\n",
      "33 found 1 times\n",
      "44 found 1 times\n",
      "22 found 1 times\n",
      "11 found 2 times\n",
      "['33', '44', '22', '11']\n",
      "['11', '22', '33', '44']\n"
     ]
    }
   ],
   "source": [
    "\"\"\"\n",
    "take n numbers from user until user gives blank\n",
    "list only numbers which are unique\n",
    "11 22 11 33 44 22 11\n",
    "\"\"\"\n",
    "listb=[]\n",
    "n=int(input(\"Enter length of list: \"))\n",
    "print(\"Enter each element: \")\n",
    "for i in range(n):\n",
    "    (listb.append(input()))\n",
    "print(listb)\n",
    "listdup=set(listb)  \n",
    "listdup=list(listdup)  \n",
    "for item in listdup:\n",
    "    print(f\"{item} found {listb.count(item)} times\")\n",
    "print(listdup)\n",
    "listdup.sort()\n",
    "print(listdup)"
   ]
  },
  {
   "cell_type": "code",
   "execution_count": 72,
   "metadata": {},
   "outputs": [
    {
     "name": "stdout",
     "output_type": "stream",
     "text": [
      "Hello There\n"
     ]
    },
    {
     "data": {
      "text/plain": [
       "32"
      ]
     },
     "execution_count": 72,
     "metadata": {},
     "output_type": "execute_result"
    }
   ],
   "source": [
    "#what keyword is used for creating a function in python\n",
    "#def keyword is used\n",
    "\n",
    "def myFunction():  #body\n",
    "    print(\"Hello There\")\n",
    "\n",
    "myFunction()  #call\n",
    "\n",
    "def addNumber(no1,no2):     \n",
    "    'Takes two input and add them'              #functions in python are by default overloaded that is the same add function can be used for integer and float\n",
    "    #print(f\"{no1}+{no2}={no1+no2}\")\n",
    "    return(no1+no2)\n",
    "\n",
    "addNumber(10,22)"
   ]
  },
  {
   "cell_type": "code",
   "execution_count": 74,
   "metadata": {},
   "outputs": [
    {
     "data": {
      "text/plain": [
       "tuple"
      ]
     },
     "execution_count": 74,
     "metadata": {},
     "output_type": "execute_result"
    }
   ],
   "source": [
    "#return can return more than element in tuple form\n",
    "def order(no1,no2):\n",
    "    if no1<no2:\n",
    "        return(no2,no1)\n",
    "    else:\n",
    "        return(no1,no2)\n",
    "\n",
    "ans=order(15,100)\n",
    "type(ans)"
   ]
  },
  {
   "cell_type": "code",
   "execution_count": 75,
   "metadata": {},
   "outputs": [
    {
     "name": "stdout",
     "output_type": "stream",
     "text": [
      "Total hobbies are: 4\n",
      "<class 'tuple'>\n",
      "--> gaming\n",
      "--> cricket\n",
      "--> chess\n",
      "--> dancing\n"
     ]
    }
   ],
   "source": [
    "#functions in python can take variable size arguments\n",
    "def hobbies(*h):\n",
    "    print(f\"Total hobbies are: {len(h)}\")\n",
    "    print(type(h))\n",
    "    for i in h:\n",
    "        print(f\"--> {i}\")\n",
    "\n",
    "hobbies(\"gaming\",\"cricket\",\"chess\",\"dancing\")"
   ]
  },
  {
   "cell_type": "code",
   "execution_count": 77,
   "metadata": {},
   "outputs": [
    {
     "name": "stdout",
     "output_type": "stream",
     "text": [
      "So your name is unnamed and you are from unknown\n",
      "So your name is kartik and you are from mumbai\n"
     ]
    }
   ],
   "source": [
    "def aaddhar(name=\"unnamed\",native=\"unknown\"):\n",
    "    print(f\"So your name is {name} and you are from {native}\")\n",
    "\n",
    "aaddhar()\n",
    "aaddhar(\"kartik\",\"mumbai\")"
   ]
  },
  {
   "cell_type": "code",
   "execution_count": 78,
   "metadata": {},
   "outputs": [
    {
     "name": "stdout",
     "output_type": "stream",
     "text": [
      "In intro\n",
      "kartik मेरे दोस्त आप कैसे हैं\n",
      "Intro ends\n"
     ]
    }
   ],
   "source": [
    "#this concept is known as decorators here exisiting function is modified by introducing a new function with additional parameters called as decorator function\n",
    "\n",
    "\n",
    "def hindi(name):\n",
    "    print(name,\"मेरे दोस्त आप कैसे हैं\")\n",
    "def marathi(name):\n",
    "    print(name,\"कसा आहेस माझ्या मित्रा\")\n",
    "def english(name):\n",
    "    print(name,\"How are you my friend\")\n",
    "def intro(name,lang):\n",
    "    print(f\"In intro\")\n",
    "    lang(name)\n",
    "    print(\"Intro ends\")\n",
    "\n",
    "intro(\"kartik\",hindi)"
   ]
  }
 ],
 "metadata": {
  "kernelspec": {
   "display_name": "Python 3.9.0 64-bit",
   "language": "python",
   "name": "python3"
  },
  "language_info": {
   "codemirror_mode": {
    "name": "ipython",
    "version": 3
   },
   "file_extension": ".py",
   "mimetype": "text/x-python",
   "name": "python",
   "nbconvert_exporter": "python",
   "pygments_lexer": "ipython3",
   "version": "3.9.0 (tags/v3.9.0:9cf6752, Oct  5 2020, 15:34:40) [MSC v.1927 64 bit (AMD64)]"
  },
  "orig_nbformat": 4,
  "vscode": {
   "interpreter": {
    "hash": "52634da84371cba311ea128a5ea7cdc41ff074b781779e754b270ff9f8153cee"
   }
  }
 },
 "nbformat": 4,
 "nbformat_minor": 2
}
