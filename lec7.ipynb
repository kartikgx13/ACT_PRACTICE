{
 "cells": [
  {
   "cell_type": "code",
   "execution_count": 2,
   "metadata": {},
   "outputs": [
    {
     "name": "stdout",
     "output_type": "stream",
     "text": [
      "\"python\"\n"
     ]
    }
   ],
   "source": [
    "s='\"python\"'\n",
    "print(s)        #if we only type s on the terminal then all the quotes will be shown"
   ]
  },
  {
   "cell_type": "code",
   "execution_count": 3,
   "metadata": {},
   "outputs": [
    {
     "name": "stdout",
     "output_type": "stream",
     "text": [
      "kartik gavande\n"
     ]
    }
   ],
   "source": [
    "s=\"kartik\"+\" \"+\"gavande\"\n",
    "print(s)"
   ]
  },
  {
   "cell_type": "code",
   "execution_count": 5,
   "metadata": {},
   "outputs": [
    {
     "name": "stdout",
     "output_type": "stream",
     "text": [
      "kartik kartik kartik kartik kartik \n"
     ]
    }
   ],
   "source": [
    "s=\"kartik \"*5\n",
    "print(s)"
   ]
  },
  {
   "cell_type": "code",
   "execution_count": 6,
   "metadata": {},
   "outputs": [
    {
     "ename": "TypeError",
     "evalue": "can't multiply sequence by non-int of type 'float'",
     "output_type": "error",
     "traceback": [
      "\u001b[1;31m---------------------------------------------------------------------------\u001b[0m",
      "\u001b[1;31mTypeError\u001b[0m                                 Traceback (most recent call last)",
      "\u001b[1;32mc:\\ACT_PRACTICE\\lec7.ipynb Cell 4\u001b[0m in \u001b[0;36m<module>\u001b[1;34m\u001b[0m\n\u001b[0;32m      <a href='vscode-notebook-cell:/c%3A/ACT_PRACTICE/lec7.ipynb#W3sZmlsZQ%3D%3D?line=0'>1</a>\u001b[0m \u001b[39m#interview question\u001b[39;00m\n\u001b[1;32m----> <a href='vscode-notebook-cell:/c%3A/ACT_PRACTICE/lec7.ipynb#W3sZmlsZQ%3D%3D?line=1'>2</a>\u001b[0m \u001b[39m\"\u001b[39;49m\u001b[39mkartik \u001b[39;49m\u001b[39m\"\u001b[39;49m\u001b[39m*\u001b[39;49m\u001b[39m0.5\u001b[39;49m\n",
      "\u001b[1;31mTypeError\u001b[0m: can't multiply sequence by non-int of type 'float'"
     ]
    }
   ],
   "source": [
    "#interview question\n",
    "\"kartik \"*0.5        #can't multiply sequence by non-int of type 'float'"
   ]
  },
  {
   "cell_type": "code",
   "execution_count": 8,
   "metadata": {},
   "outputs": [
    {
     "data": {
      "text/plain": [
       "'k'"
      ]
     },
     "execution_count": 8,
     "metadata": {},
     "output_type": "execute_result"
    }
   ],
   "source": [
    "s=\"kartik\"\n",
    "s[0]"
   ]
  },
  {
   "cell_type": "code",
   "execution_count": 9,
   "metadata": {},
   "outputs": [
    {
     "data": {
      "text/plain": [
       "'r'"
      ]
     },
     "execution_count": 9,
     "metadata": {},
     "output_type": "execute_result"
    }
   ],
   "source": [
    "s[-4]"
   ]
  },
  {
   "cell_type": "code",
   "execution_count": 10,
   "metadata": {},
   "outputs": [
    {
     "data": {
      "text/plain": [
       "'rt'"
      ]
     },
     "execution_count": 10,
     "metadata": {},
     "output_type": "execute_result"
    }
   ],
   "source": [
    "s[2:4]     #the interpreter will stop at four hence index 2 and 3 will be printed"
   ]
  },
  {
   "cell_type": "code",
   "execution_count": 11,
   "metadata": {},
   "outputs": [
    {
     "data": {
      "text/plain": [
       "'abcdefghijklmnop'"
      ]
     },
     "execution_count": 11,
     "metadata": {},
     "output_type": "execute_result"
    }
   ],
   "source": [
    "s=\"abcdefghijklmnop\"\n",
    "s[:]"
   ]
  },
  {
   "cell_type": "code",
   "execution_count": 12,
   "metadata": {},
   "outputs": [
    {
     "data": {
      "text/plain": [
       "'abcde'"
      ]
     },
     "execution_count": 12,
     "metadata": {},
     "output_type": "execute_result"
    }
   ],
   "source": [
    "s[:5]"
   ]
  },
  {
   "cell_type": "code",
   "execution_count": 13,
   "metadata": {},
   "outputs": [
    {
     "data": {
      "text/plain": [
       "'fghijklmnop'"
      ]
     },
     "execution_count": 13,
     "metadata": {},
     "output_type": "execute_result"
    }
   ],
   "source": [
    "s[5:]"
   ]
  },
  {
   "cell_type": "code",
   "execution_count": 14,
   "metadata": {},
   "outputs": [
    {
     "data": {
      "text/plain": [
       "'ponmlkjihgfedcba'"
      ]
     },
     "execution_count": 14,
     "metadata": {},
     "output_type": "execute_result"
    }
   ],
   "source": [
    "s[::-1]"
   ]
  },
  {
   "cell_type": "code",
   "execution_count": 21,
   "metadata": {},
   "outputs": [
    {
     "name": "stdout",
     "output_type": "stream",
     "text": [
      "a\n",
      "ab\n",
      "abc\n",
      "abcd\n",
      "abcde\n",
      "abcdef\n",
      "abcdefg\n",
      "abcdefgh\n"
     ]
    }
   ],
   "source": [
    "#take a word from user and print its triangle \n",
    "\n",
    "word=input(\"Enter any word\")\n",
    "\n",
    "length=len(word)\n",
    "\n",
    "for i in range(1,length+1,1):\n",
    "    print(word[:i])\n"
   ]
  },
  {
   "cell_type": "code",
   "execution_count": 24,
   "metadata": {},
   "outputs": [
    {
     "name": "stdout",
     "output_type": "stream",
     "text": [
      "kartik\n",
      "karti\n",
      "kart\n",
      "kar\n",
      "ka\n",
      "k\n"
     ]
    }
   ],
   "source": [
    "#take a word from user and print its triangle in reverse manner\n",
    "\n",
    "word=input(\"Enter any word\")\n",
    "\n",
    "length=len(word)\n",
    "\n",
    "for i in range(length,0,-1):\n",
    "    print(word[:i])"
   ]
  },
  {
   "cell_type": "code",
   "execution_count": 25,
   "metadata": {},
   "outputs": [
    {
     "data": {
      "text/plain": [
       "True"
      ]
     },
     "execution_count": 25,
     "metadata": {},
     "output_type": "execute_result"
    }
   ],
   "source": [
    "\"kartik\" in \"kartik gavande\""
   ]
  },
  {
   "cell_type": "code",
   "execution_count": 26,
   "metadata": {},
   "outputs": [
    {
     "data": {
      "text/plain": [
       "False"
      ]
     },
     "execution_count": 26,
     "metadata": {},
     "output_type": "execute_result"
    }
   ],
   "source": [
    "\"kit\" in \"kartik gavande\""
   ]
  },
  {
   "cell_type": "code",
   "execution_count": 27,
   "metadata": {},
   "outputs": [
    {
     "data": {
      "text/plain": [
       "65"
      ]
     },
     "execution_count": 27,
     "metadata": {},
     "output_type": "execute_result"
    }
   ],
   "source": [
    "#interview question\n",
    "#how do you print the ascii value of a given char in python\n",
    "\n",
    "ord('A')\n",
    "\n"
   ]
  },
  {
   "cell_type": "code",
   "execution_count": 28,
   "metadata": {},
   "outputs": [
    {
     "data": {
      "text/plain": [
       "97"
      ]
     },
     "execution_count": 28,
     "metadata": {},
     "output_type": "execute_result"
    }
   ],
   "source": [
    "ord('a')     #since ascii is a subset of unicode \n",
    "            #we are inshort using unicode"
   ]
  },
  {
   "cell_type": "code",
   "execution_count": 31,
   "metadata": {},
   "outputs": [
    {
     "data": {
      "text/plain": [
       "'a'"
      ]
     },
     "execution_count": 31,
     "metadata": {},
     "output_type": "execute_result"
    }
   ],
   "source": [
    "#give a reverse command of ord\n",
    "chr(97)"
   ]
  },
  {
   "cell_type": "code",
   "execution_count": 33,
   "metadata": {},
   "outputs": [
    {
     "data": {
      "text/plain": [
       "'E'"
      ]
     },
     "execution_count": 33,
     "metadata": {},
     "output_type": "execute_result"
    }
   ],
   "source": [
    "chr(69)"
   ]
  },
  {
   "cell_type": "code",
   "execution_count": 30,
   "metadata": {},
   "outputs": [
    {
     "data": {
      "text/plain": [
       "'b'"
      ]
     },
     "execution_count": 30,
     "metadata": {},
     "output_type": "execute_result"
    }
   ],
   "source": [
    "chr(98)"
   ]
  },
  {
   "cell_type": "code",
   "execution_count": 38,
   "metadata": {},
   "outputs": [
    {
     "data": {
      "text/plain": [
       "'Csjbb anccicih oaciciac abjcibcoid'"
      ]
     },
     "execution_count": 38,
     "metadata": {},
     "output_type": "execute_result"
    }
   ],
   "source": [
    "#some useful string operations\n",
    "\"\"\" \n",
    "-->capitalize\n",
    "-->title\n",
    "-->upper\n",
    "-->lower\n",
    "-->swapcase\n",
    "\"\"\"\n",
    "\n",
    "s=\"csjBB anCCicih oaCICiac abjcibCOId\"\n",
    "\n",
    "s.capitalize()"
   ]
  },
  {
   "cell_type": "code",
   "execution_count": 40,
   "metadata": {},
   "outputs": [
    {
     "data": {
      "text/plain": [
       "'Csjbb Anccicih Oaciciac Abjcibcoid'"
      ]
     },
     "execution_count": 40,
     "metadata": {},
     "output_type": "execute_result"
    }
   ],
   "source": [
    "s.title()"
   ]
  },
  {
   "cell_type": "code",
   "execution_count": 41,
   "metadata": {},
   "outputs": [
    {
     "data": {
      "text/plain": [
       "'CSJBB ANCCICIH OACICIAC ABJCIBCOID'"
      ]
     },
     "execution_count": 41,
     "metadata": {},
     "output_type": "execute_result"
    }
   ],
   "source": [
    "s.upper()"
   ]
  },
  {
   "cell_type": "code",
   "execution_count": 42,
   "metadata": {},
   "outputs": [
    {
     "data": {
      "text/plain": [
       "'CSJbb ANccICIH OAcicIAC ABJCIBcoiD'"
      ]
     },
     "execution_count": 42,
     "metadata": {},
     "output_type": "execute_result"
    }
   ],
   "source": [
    "s.swapcase()"
   ]
  },
  {
   "cell_type": "code",
   "execution_count": 43,
   "metadata": {},
   "outputs": [
    {
     "data": {
      "text/plain": [
       "'csjBB anCCicih oaCICiac abjcibCOId'"
      ]
     },
     "execution_count": 43,
     "metadata": {},
     "output_type": "execute_result"
    }
   ],
   "source": [
    "s       #the strings are not mutable in python\n",
    "        #that is even after performing all these operations\n",
    "        #the og string will not change"
   ]
  },
  {
   "cell_type": "code",
   "execution_count": null,
   "metadata": {},
   "outputs": [],
   "source": [
    "\"\"\" \n",
    "more string methods\n",
    "\n",
    "-->count\n",
    "-->find\n",
    "-->index\n",
    "-->len\n",
    "-->rfind    same as find and index but searches in\n",
    "-->rindex    reverse order\n",
    "\n",
    "\n",
    "\"\"\""
   ]
  },
  {
   "cell_type": "code",
   "execution_count": 44,
   "metadata": {},
   "outputs": [
    {
     "data": {
      "text/plain": [
       "0"
      ]
     },
     "execution_count": 44,
     "metadata": {},
     "output_type": "execute_result"
    }
   ],
   "source": [
    "s=\"imagination\"\n",
    "s.find('i')"
   ]
  },
  {
   "cell_type": "code",
   "execution_count": 45,
   "metadata": {},
   "outputs": [
    {
     "data": {
      "text/plain": [
       "8"
      ]
     },
     "execution_count": 45,
     "metadata": {},
     "output_type": "execute_result"
    }
   ],
   "source": [
    "s.rfind('i')    #even if the search is in reverse order\n",
    "                #it will not return a negative index hence 8"
   ]
  },
  {
   "cell_type": "code",
   "execution_count": 47,
   "metadata": {},
   "outputs": [
    {
     "data": {
      "text/plain": [
       "'00kartik00'"
      ]
     },
     "execution_count": 47,
     "metadata": {},
     "output_type": "execute_result"
    }
   ],
   "source": [
    "#center left and right padding\n",
    "\"\"\"\n",
    "syntax:\n",
    "center(width,fillchar)\n",
    "the fillchar parameter will fill the empty spaces\n",
    "with dollar sign\n",
    "\"\"\"\n",
    "\n",
    "s=\"kartik\"\n",
    "s.center(10,\"0\")"
   ]
  },
  {
   "cell_type": "code",
   "execution_count": 49,
   "metadata": {},
   "outputs": [
    {
     "data": {
      "text/plain": [
       "'kartik    gavande'"
      ]
     },
     "execution_count": 49,
     "metadata": {},
     "output_type": "execute_result"
    }
   ],
   "source": [
    "\"\"\" \n",
    "strip methods for strings:\n",
    "\n",
    "lstrip\n",
    "rstrip\n",
    "strip\n",
    "\n",
    "\"\"\"\n",
    "\n",
    "s='       kartik    gavande   '\n",
    "s.strip()    #the in between spaces will not be touched for this method"
   ]
  },
  {
   "cell_type": "code",
   "execution_count": 50,
   "metadata": {},
   "outputs": [
    {
     "data": {
      "text/plain": [
       "'kartik gavande'"
      ]
     },
     "execution_count": 50,
     "metadata": {},
     "output_type": "execute_result"
    }
   ],
   "source": [
    "s=\"kartik hemant\"\n",
    "s.replace(\"hemant\",\"gavande\")"
   ]
  },
  {
   "cell_type": "code",
   "execution_count": 51,
   "metadata": {},
   "outputs": [
    {
     "data": {
      "text/plain": [
       "'thwas was done'"
      ]
     },
     "execution_count": 51,
     "metadata": {},
     "output_type": "execute_result"
    }
   ],
   "source": [
    "s=\"this is done\"\n",
    "s.replace(\"is\",\"was\")"
   ]
  },
  {
   "cell_type": "code",
   "execution_count": 54,
   "metadata": {},
   "outputs": [
    {
     "data": {
      "text/plain": [
       "'this was done'"
      ]
     },
     "execution_count": 54,
     "metadata": {},
     "output_type": "execute_result"
    }
   ],
   "source": [
    "s.replace(\" is \",\" was \")"
   ]
  },
  {
   "cell_type": "code",
   "execution_count": 57,
   "metadata": {},
   "outputs": [
    {
     "name": "stdout",
     "output_type": "stream",
     "text": [
      "['this', 'is', 'a', 'test', 'line']\n"
     ]
    },
    {
     "data": {
      "text/plain": [
       "5"
      ]
     },
     "execution_count": 57,
     "metadata": {},
     "output_type": "execute_result"
    }
   ],
   "source": [
    "\"\"\" \n",
    "split methods\n",
    "\"\"\"\n",
    "\n",
    "s='this is a test line'\n",
    "dlist=s.split()\n",
    "print(dlist)\n",
    "type(dlist)\n",
    "len(dlist)    #the len function will not count the blank spaces"
   ]
  },
  {
   "cell_type": "code",
   "execution_count": 58,
   "metadata": {},
   "outputs": [
    {
     "data": {
      "text/plain": [
       "['', 'mag', 'nat', 'on']"
      ]
     },
     "execution_count": 58,
     "metadata": {},
     "output_type": "execute_result"
    }
   ],
   "source": [
    "s='imagination'\n",
    "s.split('i')    #will exclude i and split accordingly"
   ]
  },
  {
   "cell_type": "code",
   "execution_count": 59,
   "metadata": {},
   "outputs": [
    {
     "data": {
      "text/plain": [
       "['12', '34', '56', '78', '89']"
      ]
     },
     "execution_count": 59,
     "metadata": {},
     "output_type": "execute_result"
    }
   ],
   "source": [
    "s=\"12,34,56,78,89\"\n",
    "s.split(',')"
   ]
  },
  {
   "cell_type": "code",
   "execution_count": 2,
   "metadata": {},
   "outputs": [
    {
     "name": "stdout",
     "output_type": "stream",
     "text": [
      "Not a palindrome\n",
      "Reverse is: kitrak\n"
     ]
    }
   ],
   "source": [
    "\"\"\" \n",
    "-->check if word is palindrom\n",
    "-->create a copy\n",
    "-->reverse a words copy\n",
    "-->answer\n",
    "\"\"\"\n",
    "\n",
    "word=input(\"Enter any word\")\n",
    "if (word[::-1]==word):\n",
    "    print(f\"Yes {word} is a palindrome\")\n",
    "else:\n",
    "    print(\"Not a palindrome\")\n",
    "    print(f\"Reverse is: {word[::-1]}\")\n",
    "\n"
   ]
  },
  {
   "cell_type": "code",
   "execution_count": 3,
   "metadata": {},
   "outputs": [
    {
     "name": "stdout",
     "output_type": "stream",
     "text": [
      "5\n"
     ]
    }
   ],
   "source": [
    "line=input(\"Enter a string: \")\n",
    "line=line.lower()  #so that it does not matter if there are caps in string\n",
    "count=0\n",
    "for i in line:\n",
    "    if(i=='a' or i=='e' or i=='i' or i=='o' or i=='u'):\n",
    "        count += 1\n",
    "\n",
    "print(count)"
   ]
  },
  {
   "cell_type": "code",
   "execution_count": 10,
   "metadata": {},
   "outputs": [
    {
     "name": "stdout",
     "output_type": "stream",
     "text": [
      "5\n"
     ]
    }
   ],
   "source": [
    "line1=input(\"Enter a string\")\n",
    "line1.lower()\n",
    "totalcount=0\n",
    "vowels='aeiou'\n",
    "\n",
    "for i in vowels:\n",
    "    totalcount += line1.count(i)\n",
    "\n",
    "print(totalcount)\n",
    "\n",
    "\n"
   ]
  },
  {
   "cell_type": "code",
   "execution_count": 17,
   "metadata": {},
   "outputs": [
    {
     "name": "stdout",
     "output_type": "stream",
     "text": [
      "['this', 'is', 'was']\n",
      "{'is', 'this', 'was'}\n",
      "Unique words are:  3\n"
     ]
    }
   ],
   "source": [
    "#Important interview question\n",
    "\"\"\" \n",
    "take a line of words count unique words\n",
    "\n",
    "\"\"\"\n",
    "\n",
    "line2=input(\"Enter any string\")\n",
    "\"\"\"listline=[]\n",
    "for i in line2:\n",
    "    listline.append(i)\n",
    "\n",
    "print(listline)\n",
    "listdup=set(line2) \n",
    "print(listdup)\n",
    "print(len(listdup))\"\"\"\n",
    "print(line2.split())\n",
    "print(set(line2.split()))\n",
    "print(f\"Unique words are: \",len(set(line2.split())))"
   ]
  },
  {
   "cell_type": "code",
   "execution_count": 30,
   "metadata": {},
   "outputs": [
    {
     "name": "stdout",
     "output_type": "stream",
     "text": [
      "['this', 'is', 'was', 'is', 'this']\n"
     ]
    },
    {
     "ename": "TypeError",
     "evalue": "'NoneType' object is not iterable",
     "output_type": "error",
     "traceback": [
      "\u001b[1;31m---------------------------------------------------------------------------\u001b[0m",
      "\u001b[1;31mTypeError\u001b[0m                                 Traceback (most recent call last)",
      "\u001b[1;32mc:\\ACT_PRACTICE\\lec7.ipynb Cell 41\u001b[0m in \u001b[0;36m<module>\u001b[1;34m\u001b[0m\n\u001b[0;32m     <a href='vscode-notebook-cell:/c%3A/ACT_PRACTICE/lec7.ipynb#X55sZmlsZQ%3D%3D?line=10'>11</a>\u001b[0m checklistdum\u001b[39m=\u001b[39m\u001b[39mlist\u001b[39m(checklist)\n\u001b[0;32m     <a href='vscode-notebook-cell:/c%3A/ACT_PRACTICE/lec7.ipynb#X55sZmlsZQ%3D%3D?line=11'>12</a>\u001b[0m checklistdum1\u001b[39m=\u001b[39mchecklistdum\u001b[39m.\u001b[39msort()\n\u001b[1;32m---> <a href='vscode-notebook-cell:/c%3A/ACT_PRACTICE/lec7.ipynb#X55sZmlsZQ%3D%3D?line=12'>13</a>\u001b[0m checklistdum3\u001b[39m=\u001b[39m\u001b[39mset\u001b[39;49m(checklistdum1)\n\u001b[0;32m     <a href='vscode-notebook-cell:/c%3A/ACT_PRACTICE/lec7.ipynb#X55sZmlsZQ%3D%3D?line=14'>15</a>\u001b[0m \u001b[39mfor\u001b[39;00m i \u001b[39min\u001b[39;00m checklistdum3:\n\u001b[0;32m     <a href='vscode-notebook-cell:/c%3A/ACT_PRACTICE/lec7.ipynb#X55sZmlsZQ%3D%3D?line=15'>16</a>\u001b[0m     \u001b[39mprint\u001b[39m(\u001b[39mf\u001b[39m\u001b[39m\"\u001b[39m\u001b[39m \u001b[39m\u001b[39m{\u001b[39;00mi\u001b[39m}\u001b[39;00m\u001b[39m appears \u001b[39m\u001b[39m{\u001b[39;00mchecklistdum\u001b[39m.\u001b[39mcount(i)\u001b[39m}\u001b[39;00m\u001b[39m times\u001b[39m\u001b[39m\"\u001b[39m)\n",
      "\u001b[1;31mTypeError\u001b[0m: 'NoneType' object is not iterable"
     ]
    }
   ],
   "source": [
    "#take this input\n",
    "\"\"\" \n",
    "this is this was is this\n",
    "count dups\n",
    "\n",
    "\"\"\"\n",
    "line2=input(\"Enter any string\")\n",
    "templist=line2.split()\n",
    "print(templist)\n",
    "checklist=set(templist)\n",
    "checklistdum=list(checklist)\n",
    "checklistdum1=checklistdum.sort()\n",
    "checklistdum3=set(checklistdum1)\n",
    "\n",
    "for i in checklistdum3:\n",
    "    print(f\" {i} appears {checklistdum.count(i)} times\")\n",
    "\n"
   ]
  },
  {
   "cell_type": "code",
   "execution_count": 35,
   "metadata": {},
   "outputs": [
    {
     "name": "stdout",
     "output_type": "stream",
     "text": [
      "3000 is a leap year\n",
      "3004 is a leap year\n",
      "3008 is a leap year\n",
      "3012 is a leap year\n",
      "3016 is a leap year\n",
      "3020 is a leap year\n",
      "3024 is a leap year\n",
      "3028 is a leap year\n",
      "3032 is a leap year\n",
      "3036 is a leap year\n",
      "3040 is a leap year\n",
      "3044 is a leap year\n",
      "3048 is a leap year\n",
      "3052 is a leap year\n",
      "3056 is a leap year\n",
      "3060 is a leap year\n",
      "3064 is a leap year\n",
      "3068 is a leap year\n",
      "3072 is a leap year\n",
      "3076 is a leap year\n",
      "3080 is a leap year\n",
      "3084 is a leap year\n",
      "3088 is a leap year\n",
      "3092 is a leap year\n",
      "3096 is a leap year\n",
      "3100 is a leap year\n",
      "3104 is a leap year\n",
      "3108 is a leap year\n",
      "3112 is a leap year\n",
      "3116 is a leap year\n",
      "3120 is a leap year\n",
      "3124 is a leap year\n",
      "3128 is a leap year\n",
      "3132 is a leap year\n",
      "3136 is a leap year\n",
      "3140 is a leap year\n",
      "3144 is a leap year\n",
      "3148 is a leap year\n",
      "3152 is a leap year\n",
      "3156 is a leap year\n",
      "3160 is a leap year\n",
      "3164 is a leap year\n",
      "3168 is a leap year\n",
      "3172 is a leap year\n",
      "3176 is a leap year\n",
      "3180 is a leap year\n",
      "3184 is a leap year\n",
      "3188 is a leap year\n",
      "3192 is a leap year\n",
      "3196 is a leap year\n",
      "3200 is a leap year\n",
      "3204 is a leap year\n",
      "3208 is a leap year\n",
      "3212 is a leap year\n",
      "3216 is a leap year\n",
      "3220 is a leap year\n",
      "3224 is a leap year\n",
      "3228 is a leap year\n",
      "3232 is a leap year\n",
      "3236 is a leap year\n",
      "3240 is a leap year\n",
      "3244 is a leap year\n",
      "3248 is a leap year\n",
      "3252 is a leap year\n",
      "3256 is a leap year\n",
      "3260 is a leap year\n",
      "3264 is a leap year\n",
      "3268 is a leap year\n",
      "3272 is a leap year\n",
      "3276 is a leap year\n",
      "3280 is a leap year\n",
      "3284 is a leap year\n",
      "3288 is a leap year\n",
      "3292 is a leap year\n",
      "3296 is a leap year\n",
      "3300 is a leap year\n",
      "3304 is a leap year\n",
      "3308 is a leap year\n",
      "3312 is a leap year\n",
      "3316 is a leap year\n",
      "3320 is a leap year\n",
      "3324 is a leap year\n",
      "3328 is a leap year\n",
      "3332 is a leap year\n",
      "3336 is a leap year\n",
      "3340 is a leap year\n",
      "3344 is a leap year\n",
      "3348 is a leap year\n",
      "3352 is a leap year\n",
      "3356 is a leap year\n",
      "3360 is a leap year\n",
      "3364 is a leap year\n",
      "3368 is a leap year\n",
      "3372 is a leap year\n",
      "3376 is a leap year\n",
      "3380 is a leap year\n",
      "3384 is a leap year\n",
      "3388 is a leap year\n",
      "3392 is a leap year\n",
      "3396 is a leap year\n",
      "3400 is a leap year\n",
      "3404 is a leap year\n",
      "3408 is a leap year\n",
      "3412 is a leap year\n",
      "3416 is a leap year\n",
      "3420 is a leap year\n",
      "3424 is a leap year\n",
      "3428 is a leap year\n",
      "3432 is a leap year\n",
      "3436 is a leap year\n",
      "3440 is a leap year\n",
      "3444 is a leap year\n",
      "3448 is a leap year\n",
      "3452 is a leap year\n",
      "3456 is a leap year\n",
      "3460 is a leap year\n",
      "3464 is a leap year\n",
      "3468 is a leap year\n",
      "3472 is a leap year\n",
      "3476 is a leap year\n",
      "3480 is a leap year\n",
      "3484 is a leap year\n",
      "3488 is a leap year\n",
      "3492 is a leap year\n",
      "3496 is a leap year\n",
      "3500 is a leap year\n",
      "3504 is a leap year\n",
      "3508 is a leap year\n",
      "3512 is a leap year\n",
      "3516 is a leap year\n",
      "3520 is a leap year\n",
      "3524 is a leap year\n",
      "3528 is a leap year\n",
      "3532 is a leap year\n",
      "3536 is a leap year\n",
      "3540 is a leap year\n",
      "3544 is a leap year\n",
      "3548 is a leap year\n",
      "3552 is a leap year\n",
      "3556 is a leap year\n",
      "3560 is a leap year\n",
      "3564 is a leap year\n",
      "3568 is a leap year\n",
      "3572 is a leap year\n",
      "3576 is a leap year\n",
      "3580 is a leap year\n",
      "3584 is a leap year\n",
      "3588 is a leap year\n",
      "3592 is a leap year\n",
      "3596 is a leap year\n",
      "3600 is a leap year\n",
      "3604 is a leap year\n",
      "3608 is a leap year\n",
      "3612 is a leap year\n",
      "3616 is a leap year\n",
      "3620 is a leap year\n",
      "3624 is a leap year\n",
      "3628 is a leap year\n",
      "3632 is a leap year\n",
      "3636 is a leap year\n",
      "3640 is a leap year\n",
      "3644 is a leap year\n",
      "3648 is a leap year\n",
      "3652 is a leap year\n",
      "3656 is a leap year\n",
      "3660 is a leap year\n",
      "3664 is a leap year\n",
      "3668 is a leap year\n",
      "3672 is a leap year\n",
      "3676 is a leap year\n",
      "3680 is a leap year\n",
      "3684 is a leap year\n",
      "3688 is a leap year\n",
      "3692 is a leap year\n",
      "3696 is a leap year\n",
      "3700 is a leap year\n",
      "3704 is a leap year\n",
      "3708 is a leap year\n",
      "3712 is a leap year\n",
      "3716 is a leap year\n",
      "3720 is a leap year\n",
      "3724 is a leap year\n",
      "3728 is a leap year\n",
      "3732 is a leap year\n",
      "3736 is a leap year\n",
      "3740 is a leap year\n",
      "3744 is a leap year\n",
      "3748 is a leap year\n",
      "3752 is a leap year\n",
      "3756 is a leap year\n",
      "3760 is a leap year\n",
      "3764 is a leap year\n",
      "3768 is a leap year\n",
      "3772 is a leap year\n",
      "3776 is a leap year\n",
      "3780 is a leap year\n",
      "3784 is a leap year\n",
      "3788 is a leap year\n",
      "3792 is a leap year\n",
      "3796 is a leap year\n",
      "3800 is a leap year\n",
      "3804 is a leap year\n",
      "3808 is a leap year\n",
      "3812 is a leap year\n",
      "3816 is a leap year\n",
      "3820 is a leap year\n",
      "3824 is a leap year\n",
      "3828 is a leap year\n",
      "3832 is a leap year\n",
      "3836 is a leap year\n",
      "3840 is a leap year\n",
      "3844 is a leap year\n",
      "3848 is a leap year\n",
      "3852 is a leap year\n",
      "3856 is a leap year\n",
      "3860 is a leap year\n",
      "3864 is a leap year\n",
      "3868 is a leap year\n",
      "3872 is a leap year\n",
      "3876 is a leap year\n",
      "3880 is a leap year\n",
      "3884 is a leap year\n",
      "3888 is a leap year\n",
      "3892 is a leap year\n",
      "3896 is a leap year\n",
      "3900 is a leap year\n",
      "3904 is a leap year\n",
      "3908 is a leap year\n",
      "3912 is a leap year\n",
      "3916 is a leap year\n",
      "3920 is a leap year\n",
      "3924 is a leap year\n",
      "3928 is a leap year\n",
      "3932 is a leap year\n",
      "3936 is a leap year\n",
      "3940 is a leap year\n",
      "3944 is a leap year\n",
      "3948 is a leap year\n",
      "3952 is a leap year\n",
      "3956 is a leap year\n",
      "3960 is a leap year\n",
      "3964 is a leap year\n",
      "3968 is a leap year\n",
      "3972 is a leap year\n",
      "3976 is a leap year\n",
      "3980 is a leap year\n",
      "3984 is a leap year\n",
      "3988 is a leap year\n",
      "3992 is a leap year\n",
      "3996 is a leap year\n",
      "4000 is a leap year\n"
     ]
    },
    {
     "data": {
      "text/plain": [
       "'if year%4==0 and year%100!=0 or year%400==0:    #this order matters for the century years 1700,1800,1900\\n    print(\"Leap year\")\\nelse:\\n    print(\"Not leap year\")'"
      ]
     },
     "execution_count": 35,
     "metadata": {},
     "output_type": "execute_result"
    }
   ],
   "source": [
    "\n",
    "\n",
    "for i in range(3000,4001,4):\n",
    "    print(f\"{i} is a leap year\")\n",
    "    \n",
    "\n",
    "\n",
    "\n",
    "\n",
    "\"\"\"if year%4==0 and year%100!=0 or year%400==0:    #this order matters for the century years 1700,1800,1900\n",
    "    print(\"Leap year\")\n",
    "else:\n",
    "    print(\"Not leap year\")\"\"\""
   ]
  },
  {
   "cell_type": "code",
   "execution_count": 39,
   "metadata": {},
   "outputs": [
    {
     "name": "stdout",
     "output_type": "stream",
     "text": [
      "First leap year: 1500\n",
      "Now from loop\n",
      "1504\n",
      "1508\n",
      "1512\n",
      "1516\n",
      "1520\n",
      "1524\n",
      "1528\n",
      "1532\n",
      "1536\n",
      "1540\n",
      "1544\n",
      "1548\n",
      "1552\n",
      "1556\n",
      "1560\n",
      "1564\n",
      "1568\n",
      "1572\n",
      "1576\n",
      "1580\n",
      "1584\n",
      "1588\n",
      "1592\n",
      "1596\n",
      "1600\n",
      "1604\n",
      "1608\n",
      "1612\n",
      "1616\n",
      "1620\n",
      "1624\n",
      "1628\n",
      "1632\n",
      "1636\n",
      "1640\n",
      "1644\n",
      "1648\n",
      "1652\n",
      "1656\n",
      "1660\n",
      "1664\n",
      "1668\n",
      "1672\n",
      "1676\n",
      "1680\n",
      "1684\n",
      "1688\n",
      "1692\n",
      "1696\n",
      "1704\n",
      "1708\n",
      "1712\n",
      "1716\n",
      "1720\n",
      "1724\n",
      "1728\n",
      "1732\n",
      "1736\n",
      "1740\n",
      "1744\n",
      "1748\n",
      "1752\n",
      "1756\n",
      "1760\n",
      "1764\n",
      "1768\n",
      "1772\n",
      "1776\n",
      "1780\n",
      "1784\n",
      "1788\n",
      "1792\n",
      "1796\n",
      "1804\n",
      "1808\n",
      "1812\n",
      "1816\n",
      "1820\n",
      "1824\n",
      "1828\n",
      "1832\n",
      "1836\n",
      "1840\n",
      "1844\n",
      "1848\n",
      "1852\n",
      "1856\n",
      "1860\n",
      "1864\n",
      "1868\n",
      "1872\n",
      "1876\n",
      "1880\n",
      "1884\n",
      "1888\n",
      "1892\n",
      "1896\n",
      "1904\n",
      "1908\n",
      "1912\n",
      "1916\n",
      "1920\n",
      "1924\n",
      "1928\n",
      "1932\n",
      "1936\n",
      "1940\n",
      "1944\n",
      "1948\n",
      "1952\n",
      "1956\n",
      "1960\n",
      "1964\n",
      "1968\n",
      "1972\n",
      "1976\n",
      "1980\n",
      "1984\n",
      "1988\n",
      "1992\n",
      "1996\n",
      "2000\n"
     ]
    }
   ],
   "source": [
    "start=int((input(\"Enter start:\")))\n",
    "end=int(input(\"Enter end: \"))\n",
    "year=0\n",
    "\n",
    "for y in range(start,end+1):\n",
    "    if(y%4==0 and y%100!=0) or y%400==0:\n",
    "        year=y\n",
    "        print(f\"First leap year: {year}\")\n",
    "        break\n",
    "\n",
    "print(\"Now from loop\")\n",
    "for y in range(y,end+1,4):\n",
    "    if(y%4==0 and y%100!=0) or y%400==0:\n",
    "        print(y)\n",
    "    \n"
   ]
  },
  {
   "cell_type": "code",
   "execution_count": 49,
   "metadata": {},
   "outputs": [
    {
     "name": "stdout",
     "output_type": "stream",
     "text": [
      "end is this "
     ]
    }
   ],
   "source": [
    "word=input(\"Enter any string\")\n",
    "dumword=word.split()\n",
    "#print(dumword)\n",
    "rline=dumword[::-1]\n",
    "\n",
    "for i in rline:\n",
    "    print(i,end=\" \")\n"
   ]
  }
 ],
 "metadata": {
  "kernelspec": {
   "display_name": "Python 3",
   "language": "python",
   "name": "python3"
  },
  "language_info": {
   "codemirror_mode": {
    "name": "ipython",
    "version": 3
   },
   "file_extension": ".py",
   "mimetype": "text/x-python",
   "name": "python",
   "nbconvert_exporter": "python",
   "pygments_lexer": "ipython3",
   "version": "3.9.0 (tags/v3.9.0:9cf6752, Oct  5 2020, 15:34:40) [MSC v.1927 64 bit (AMD64)]"
  },
  "orig_nbformat": 4,
  "vscode": {
   "interpreter": {
    "hash": "52634da84371cba311ea128a5ea7cdc41ff074b781779e754b270ff9f8153cee"
   }
  }
 },
 "nbformat": 4,
 "nbformat_minor": 2
}
