{
 "cells": [
  {
   "cell_type": "code",
   "execution_count": null,
   "metadata": {},
   "outputs": [],
   "source": [
    "\"\"\"\n",
    "Data structure is storage of data \n",
    "i.e way of organizing and storing data\n",
    "\n",
    "Way of arranging data on computer \n",
    "so that it can be accessed and updated\n",
    "efficiently\n",
    "\n",
    "                      Data structures:\n",
    "           Linear vs Non linear                                       Static vs Dyamic\n",
    "Linear:                     Non-Linear:                  Static:                         Dynamic:\n",
    "-->easy to code             -->Fast(Heirarchial)         -->memory at compile time       -->runtime(on demand allocation)\n",
    "-->slow                     -->Direct or guided          -->simple                       -->better memory handling then static             \n",
    "-->sequence is there        -->complex to work with      -->memory utilization(-ve)      -->complex to code\n",
    "\"\"\""
   ]
  },
  {
   "cell_type": "code",
   "execution_count": null,
   "metadata": {},
   "outputs": [],
   "source": [
    "#list of data structures:\n",
    "\"\"\"\n",
    "-->stack\n",
    "-->queue\n",
    "-->linked list\n",
    "-->double linked list\n",
    "-->tree\n",
    "\"\"\""
   ]
  },
  {
   "cell_type": "code",
   "execution_count": null,
   "metadata": {},
   "outputs": [],
   "source": [
    "#most powerful data structure is linked list\n",
    "#as it can construct rest of the data structures"
   ]
  },
  {
   "cell_type": "code",
   "execution_count": null,
   "metadata": {},
   "outputs": [],
   "source": [
    "\"\"\" \n",
    "ADT:\n",
    "-->Abstract data type\n",
    "-->set of methods one must implement to realize\n",
    "/implement data\n",
    "-->concentrates on encapsulation and abstraction\n",
    "-->provides implementation standards for data structures\n",
    "\n",
    "\"\"\""
   ]
  },
  {
   "cell_type": "code",
   "execution_count": null,
   "metadata": {},
   "outputs": [],
   "source": [
    "#stack:\n",
    "\"\"\"\n",
    "-->linear\n",
    "-->static(but can be dynamic also)\n",
    "-->LIFO\n",
    "-->single ended\n",
    "\n",
    "flow of ADT:\n",
    "    createStack(size):\n",
    "        tos=--1         (top of the stack)\n",
    "        maxSize=size\n",
    "        list[]\n",
    "\n",
    "push():\n",
    "tos += 1\n",
    "stack[tos]=element\n",
    "\n",
    "pop():\n",
    "tos -= 1\n",
    "\n",
    "isFull():               isEmpty():\n",
    "if tos==(maxSize-1)       if tos==-1\n",
    "return true             return true\n",
    "\n",
    "peek():\n",
    "return element(top)\n",
    "\n",
    "displayStack():\n",
    "print in LIFO\n",
    "\n",
    "Common application of stack:\n",
    "-->Recursion(factorial program uses stack)\n",
    "-->Checking balance:\n",
    "i.e for every '{' push and for every '}' pop it so that pairs are maintained   \n",
    "-->reversing of string as if we pop contents of string then\n",
    "they will be popped out in reverse order\n",
    "-->decimal to binary conversion as it will store the remainders\n",
    "onto the stack and the order in which they are popped will\n",
    "give the binary number\n",
    "-->express evaluation and conversion(imp):\n",
    "there are three types of expression:\n",
    "-->prefix +ab (for software)\n",
    "-->infix  a+b (for humans)\n",
    "-->postfix ab+ (for hardware)\n",
    "\n",
    "In software first the operation is called and then data is fetched \n",
    "hence the notation\n",
    "\n",
    "In hardware first the data is required then operation is performed as \n",
    "in conventional calci the adder is called when we press equal to.\n",
    "\n",
    "\"\"\""
   ]
  },
  {
   "cell_type": "code",
   "execution_count": null,
   "metadata": {},
   "outputs": [],
   "source": [
    "#Queue\n",
    "\"\"\"\n",
    "-->mostly static \n",
    "-->linear\n",
    "-->double ended\n",
    "-->FIFO in nature\n",
    "-->printing will also be in FIFO \n",
    "\n",
    "Application:\n",
    "-->maintaining the playlist\n",
    "-->managing requests and scheduling in disks\n",
    "-->Handling hardware and real time interrupts\n",
    "-->Handling website traffic\n",
    "-->Routers and switches in networking\n",
    "\n",
    "Queue operations(ADT):\n",
    "create queue(size):\n",
    "front=0\n",
    "rear=-1\n",
    "maxSize=size\n",
    "\n",
    "enqueue():\n",
    "when element is inserted rear is incremented\n",
    "when element is deleted front is incremented\n",
    "\n",
    "\"\"\""
   ]
  }
 ],
 "metadata": {
  "kernelspec": {
   "display_name": "Python 3",
   "language": "python",
   "name": "python3"
  },
  "language_info": {
   "name": "python",
   "version": "3.9.0 (tags/v3.9.0:9cf6752, Oct  5 2020, 15:34:40) [MSC v.1927 64 bit (AMD64)]"
  },
  "orig_nbformat": 4,
  "vscode": {
   "interpreter": {
    "hash": "52634da84371cba311ea128a5ea7cdc41ff074b781779e754b270ff9f8153cee"
   }
  }
 },
 "nbformat": 4,
 "nbformat_minor": 2
}
