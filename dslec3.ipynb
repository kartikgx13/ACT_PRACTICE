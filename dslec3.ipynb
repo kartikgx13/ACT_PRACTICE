{
 "cells": [
  {
   "cell_type": "code",
   "execution_count": null,
   "metadata": {},
   "outputs": [],
   "source": [
    "\"\"\"\n",
    "Linked list important questions:\n",
    "1.sort linked list(linear)\n",
    "2.merging 2 sorted linked list\n",
    "3.Polynomial addition using linked list\n",
    "4.using stack reverse content of link list\n",
    "\"\"\""
   ]
  },
  {
   "cell_type": "code",
   "execution_count": null,
   "metadata": {},
   "outputs": [],
   "source": [
    "\"\"\"\n",
    "Tree:\n",
    "-->non-linear\n",
    "-->mostly dynamic\n",
    "-->has a root node to start\n",
    "-->branches to grow and leaf nodes to end\n",
    "-->height = depth  (length of longest running branch)\n",
    "but height(node)!=depth(node)\n",
    "height is always bottom to up\n",
    "depth is always top to bottom\n",
    "\n",
    "height and depth is directly proportional to size\n",
    "\n",
    "Applications:\n",
    "-->Auto correct and auto complete\n",
    "#State Space tree\n",
    "-->BI/AI state space tree   (bi is business intelligence)\n",
    "-->Searching and sorting(BST)\n",
    "\n",
    "\n",
    "\n",
    "\"\"\""
   ]
  }
 ],
 "metadata": {
  "kernelspec": {
   "display_name": "Python 3",
   "language": "python",
   "name": "python3"
  },
  "language_info": {
   "name": "python",
   "version": "3.9.0 (tags/v3.9.0:9cf6752, Oct  5 2020, 15:34:40) [MSC v.1927 64 bit (AMD64)]"
  },
  "orig_nbformat": 4,
  "vscode": {
   "interpreter": {
    "hash": "52634da84371cba311ea128a5ea7cdc41ff074b781779e754b270ff9f8153cee"
   }
  }
 },
 "nbformat": 4,
 "nbformat_minor": 2
}
