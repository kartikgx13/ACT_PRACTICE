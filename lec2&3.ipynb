{
 "cells": [
  {
   "cell_type": "code",
   "execution_count": 1,
   "metadata": {},
   "outputs": [
    {
     "data": {
      "text/plain": [
       "1918539688528"
      ]
     },
     "execution_count": 1,
     "metadata": {},
     "output_type": "execute_result"
    }
   ],
   "source": [
    "#dynamic memory location\n",
    "\n",
    "a=10\n",
    "id(a)\n"
   ]
  },
  {
   "cell_type": "code",
   "execution_count": null,
   "metadata": {},
   "outputs": [],
   "source": []
  },
  {
   "cell_type": "code",
   "execution_count": null,
   "metadata": {},
   "outputs": [],
   "source": [
    "a=a+5\n",
    "a"
   ]
  },
  {
   "cell_type": "code",
   "execution_count": null,
   "metadata": {},
   "outputs": [],
   "source": [
    "id(a)"
   ]
  },
  {
   "cell_type": "code",
   "execution_count": null,
   "metadata": {},
   "outputs": [],
   "source": [
    "a=10\n",
    "b=5\n",
    "c=a+b\n",
    "c         #since a and c have same value no new memory is allocated to c the location alloted to a is assigned to c\n",
    "id(c)"
   ]
  },
  {
   "cell_type": "code",
   "execution_count": null,
   "metadata": {},
   "outputs": [],
   "source": [
    "#loosed sytnax\n",
    "#python supports three types of casting integer and float,string is by default\n",
    "a,b,c=10,34,\"kartik\"\n",
    "a\n",
    "b\n",
    "c"
   ]
  },
  {
   "cell_type": "code",
   "execution_count": null,
   "metadata": {},
   "outputs": [],
   "source": [
    "a=10\n",
    "b=20\n",
    "print(f\"{a} is a and b is {b}\")"
   ]
  },
  {
   "cell_type": "code",
   "execution_count": null,
   "metadata": {},
   "outputs": [],
   "source": [
    "#practice\n",
    "a=10\n",
    "b=20\n",
    "print(a,\"is a and b is\",b)"
   ]
  },
  {
   "cell_type": "code",
   "execution_count": null,
   "metadata": {},
   "outputs": [],
   "source": [
    "#integer based division\n",
    "5/2"
   ]
  },
  {
   "cell_type": "code",
   "execution_count": null,
   "metadata": {},
   "outputs": [],
   "source": [
    "5//2"
   ]
  },
  {
   "cell_type": "code",
   "execution_count": null,
   "metadata": {},
   "outputs": [],
   "source": [
    "39//10"
   ]
  },
  {
   "cell_type": "code",
   "execution_count": null,
   "metadata": {},
   "outputs": [],
   "source": [
    "34%100"
   ]
  },
  {
   "cell_type": "code",
   "execution_count": null,
   "metadata": {},
   "outputs": [],
   "source": [
    "3.4%2 #this is important"
   ]
  },
  {
   "cell_type": "code",
   "execution_count": null,
   "metadata": {},
   "outputs": [],
   "source": [
    "3.8%2.2   #this too"
   ]
  },
  {
   "cell_type": "code",
   "execution_count": null,
   "metadata": {},
   "outputs": [],
   "source": [
    "#basic data types in python\n",
    "\"\"\"\n",
    "int\n",
    "float\n",
    "str\n",
    "boolean\n",
    "complex\n",
    "\"\"\""
   ]
  },
  {
   "cell_type": "code",
   "execution_count": 5,
   "metadata": {},
   "outputs": [],
   "source": [
    "x=bool(input(\"enter data: \"))  #how to print true or false from the user and '^' is known as karat but it was discarded after 2.7 version\n"
   ]
  },
  {
   "cell_type": "code",
   "execution_count": 6,
   "metadata": {},
   "outputs": [
    {
     "data": {
      "text/plain": [
       "False"
      ]
     },
     "execution_count": 6,
     "metadata": {},
     "output_type": "execute_result"
    }
   ],
   "source": [
    "x #ascii is a subset of unicode\n",
    "  #ASCII is 8 bit and unicode is 16 bit\n",
    "  #if in the question it is mentioned perfectly divisible by then modulus operator will be used.\n",
    "  #in multiple and conditions it will stop checking on the first false occurence\n",
    "  #even one true is there then if will not check further\n"
   ]
  },
  {
   "cell_type": "code",
   "execution_count": 14,
   "metadata": {},
   "outputs": [
    {
     "name": "stdout",
     "output_type": "stream",
     "text": [
      "Leap year\n"
     ]
    }
   ],
   "source": [
    "year=int(input(\"Please enter your year\"))        #one line if is preferred instead of nested because of more readabilty and easy testing\n",
    "if year%4==0 and year%100!=0 or year%400==0:    #this order matters for the century years 1700,1800,1900\n",
    "    print(\"Leap year\")\n",
    "else:\n",
    "    print(\"Not leap year\")\n"
   ]
  },
  {
   "cell_type": "code",
   "execution_count": null,
   "metadata": {},
   "outputs": [],
   "source": [
    "\n",
    "#interview questions\n",
    "#Loop is made out of which subparts\n",
    "#start-initial state\n",
    "#condition where to stop\n",
    "#increment/decrement"
   ]
  },
  {
   "cell_type": "code",
   "execution_count": 15,
   "metadata": {},
   "outputs": [
    {
     "name": "stdout",
     "output_type": "stream",
     "text": [
      "i=1\n",
      "i=2\n",
      "i=3\n",
      "i=4\n",
      "i=5\n",
      "i=6\n",
      "i=7\n",
      "i=8\n",
      "i=9\n",
      "i=10\n"
     ]
    }
   ],
   "source": [
    "for i in range(1,11,1):  #if we need 10 then use 11 that is one extra\n",
    "    print(f\"i={i}\")"
   ]
  },
  {
   "cell_type": "code",
   "execution_count": 23,
   "metadata": {},
   "outputs": [
    {
     "name": "stdout",
     "output_type": "stream",
     "text": [
      "i=6\n",
      "i=5\n",
      "i=4\n",
      "i=3\n",
      "i=2\n",
      "i=1\n",
      "i=0\n",
      "i=-1\n",
      "i=-2\n",
      "i=-3\n",
      "i=-4\n",
      "i=-5\n",
      "i=-6\n",
      "i=-7\n",
      "i=-8\n",
      "i=-9\n"
     ]
    }
   ],
   "source": [
    "for i in range(6,-10,-1):\n",
    "    print(f\"i={i}\")"
   ]
  },
  {
   "cell_type": "code",
   "execution_count": 24,
   "metadata": {},
   "outputs": [
    {
     "name": "stdout",
     "output_type": "stream",
     "text": [
      "1\n",
      "2\n",
      "3\n",
      "4\n"
     ]
    }
   ],
   "source": [
    "i=1                        #the major difference is that in for loop a floating point number                       \n",
    "                         #cannot be used in step but in while loop floating point stepping can be used\n",
    "while i<=4: \n",
    "    print(i)\n",
    "    i += 1"
   ]
  },
  {
   "cell_type": "code",
   "execution_count": 26,
   "metadata": {},
   "outputs": [
    {
     "ename": "KeyboardInterrupt",
     "evalue": "",
     "output_type": "error",
     "traceback": [
      "\u001b[1;31m---------------------------------------------------------------------------\u001b[0m",
      "\u001b[1;31mKeyboardInterrupt\u001b[0m                         Traceback (most recent call last)",
      "\u001b[1;32mc:\\ACT_PRACTICE\\lec2.ipynb Cell 23\u001b[0m in \u001b[0;36m<module>\u001b[1;34m\u001b[0m\n\u001b[0;32m      <a href='vscode-notebook-cell:/c%3A/ACT_PRACTICE/lec2.ipynb#X32sZmlsZQ%3D%3D?line=1'>2</a>\u001b[0m count\u001b[39m=\u001b[39m\u001b[39mint\u001b[39m(\u001b[39minput\u001b[39m(\u001b[39m\"\u001b[39m\u001b[39mEnter the limit\u001b[39m\u001b[39m\"\u001b[39m))\n\u001b[0;32m      <a href='vscode-notebook-cell:/c%3A/ACT_PRACTICE/lec2.ipynb#X32sZmlsZQ%3D%3D?line=2'>3</a>\u001b[0m \u001b[39msum\u001b[39m\u001b[39m=\u001b[39m\u001b[39m0\u001b[39m\n\u001b[1;32m----> <a href='vscode-notebook-cell:/c%3A/ACT_PRACTICE/lec2.ipynb#X32sZmlsZQ%3D%3D?line=3'>4</a>\u001b[0m \u001b[39mfor\u001b[39;00m i \u001b[39min\u001b[39;00m \u001b[39mrange\u001b[39m(\u001b[39m1\u001b[39m,count\u001b[39m+\u001b[39m\u001b[39m1\u001b[39m,\u001b[39m1\u001b[39m):\n\u001b[0;32m      <a href='vscode-notebook-cell:/c%3A/ACT_PRACTICE/lec2.ipynb#X32sZmlsZQ%3D%3D?line=4'>5</a>\u001b[0m     \u001b[39msum\u001b[39m \u001b[39m+\u001b[39m\u001b[39m=\u001b[39m i\n\u001b[0;32m      <a href='vscode-notebook-cell:/c%3A/ACT_PRACTICE/lec2.ipynb#X32sZmlsZQ%3D%3D?line=5'>6</a>\u001b[0m \u001b[39mprint\u001b[39m(\u001b[39msum\u001b[39m)\n",
      "\u001b[1;31mKeyboardInterrupt\u001b[0m: "
     ]
    }
   ],
   "source": [
    "#suppose we have to find sum of series and the step is in fraction while loop is used or for loop will do\n",
    "count=int(input(\"Enter the limit\"))\n",
    "sum=0\n",
    "for i in range(1,count+1,1):\n",
    "    sum += i\n",
    "print(sum)"
   ]
  },
  {
   "cell_type": "code",
   "execution_count": 28,
   "metadata": {},
   "outputs": [
    {
     "name": "stdout",
     "output_type": "stream",
     "text": [
      "Factorial is: 120\n"
     ]
    }
   ],
   "source": [
    "number=int(input(\"Enter the number: \"))\n",
    "pro=1\n",
    "for i in range(1,number+1):\n",
    "    pro *= i\n",
    "print(f\"Factorial is: {pro}\")"
   ]
  },
  {
   "cell_type": "code",
   "execution_count": 31,
   "metadata": {},
   "outputs": [
    {
     "name": "stdout",
     "output_type": "stream",
     "text": [
      "3.8583333333333334\n"
     ]
    }
   ],
   "source": [
    "#1/2 + 3/4 +5/6 + .... n/n+1\n",
    "limit=int(input(\"Enter the limit\"))\n",
    "sum=0\n",
    "i=1\n",
    "while i<=2*limit:\n",
    "    sum = sum + i/(i+1)\n",
    "    i += 2\n",
    "print(sum)    \n",
    "\n",
    "\n",
    "\n"
   ]
  },
  {
   "cell_type": "code",
   "execution_count": 1,
   "metadata": {},
   "outputs": [
    {
     "name": "stdout",
     "output_type": "stream",
     "text": [
      "0\n",
      "1\n",
      "1\n",
      "2\n",
      "3\n",
      "5\n",
      "8\n",
      "13\n",
      "21\n",
      "34\n",
      "55\n",
      "89\n",
      "144\n",
      "233\n",
      "377\n",
      "610\n",
      "987\n",
      "1597\n",
      "2584\n",
      "4181\n",
      "6765\n",
      "10946\n",
      "17711\n",
      "28657\n",
      "46368\n",
      "75025\n",
      "121393\n",
      "196418\n",
      "317811\n",
      "514229\n",
      "832040\n",
      "1346269\n",
      "2178309\n",
      "3524578\n",
      "5702887\n",
      "9227465\n",
      "14930352\n",
      "24157817\n",
      "39088169\n",
      "63245986\n",
      "102334155\n",
      "165580141\n",
      "267914296\n",
      "433494437\n",
      "701408733\n",
      "1134903170\n",
      "1836311903\n",
      "2971215073\n",
      "4807526976\n",
      "7778742049\n",
      "12586269025\n",
      "20365011074\n",
      "32951280099\n",
      "53316291173\n",
      "86267571272\n",
      "139583862445\n",
      "225851433717\n",
      "365435296162\n",
      "591286729879\n",
      "956722026041\n",
      "1548008755920\n",
      "2504730781961\n",
      "4052739537881\n",
      "6557470319842\n",
      "10610209857723\n",
      "17167680177565\n",
      "27777890035288\n",
      "44945570212853\n",
      "72723460248141\n",
      "117669030460994\n",
      "190392490709135\n",
      "308061521170129\n",
      "498454011879264\n",
      "806515533049393\n",
      "1304969544928657\n",
      "2111485077978050\n",
      "3416454622906707\n",
      "5527939700884757\n",
      "8944394323791464\n",
      "14472334024676221\n",
      "23416728348467685\n",
      "37889062373143906\n",
      "61305790721611591\n",
      "99194853094755497\n",
      "160500643816367088\n",
      "259695496911122585\n",
      "420196140727489673\n",
      "679891637638612258\n",
      "1100087778366101931\n",
      "1779979416004714189\n",
      "2880067194370816120\n",
      "4660046610375530309\n",
      "7540113804746346429\n",
      "12200160415121876738\n",
      "19740274219868223167\n",
      "31940434634990099905\n",
      "51680708854858323072\n",
      "83621143489848422977\n",
      "135301852344706746049\n",
      "218922995834555169026\n"
     ]
    }
   ],
   "source": [
    "#fibonacci series\n",
    "n=int(input(\"Enter limit of fibonacci series\"))\n",
    "f0,f1=0,1\n",
    "for i in range(0,n,1):\n",
    "    if i<=1:\n",
    "        print(i)\n",
    "    else:\n",
    "        fn=f0+f1\n",
    "        print(fn)\n",
    "        f0,f1=f1,fn    "
   ]
  },
  {
   "cell_type": "code",
   "execution_count": 46,
   "metadata": {},
   "outputs": [
    {
     "name": "stdout",
     "output_type": "stream",
     "text": [
      "0\n",
      "1\n",
      "1\n",
      "Not found\n"
     ]
    }
   ],
   "source": [
    "#to find whether the input is a part of fibonacci series\n",
    "n=int(input(\"Enter limit of fibonacci series\"))\n",
    "find=int(input(\"Enter number to be found: \"))\n",
    "f0,f1=0,1\n",
    "ifFound=False\n",
    "for i in range(0,n,1):\n",
    "    if i<=1:\n",
    "        print(i)\n",
    "    else:\n",
    "        fn=f0+f1\n",
    "        if fn==find:\n",
    "            ifFound=True\n",
    "            print(f\"Found at position: {i+1} \")\n",
    "        print(fn)\n",
    "        f0,f1=f1,fn  \n",
    "if ifFound==False:\n",
    "    print(\"Not found\")        \n",
    "        \n",
    "\n"
   ]
  },
  {
   "cell_type": "code",
   "execution_count": 47,
   "metadata": {},
   "outputs": [
    {
     "name": "stdout",
     "output_type": "stream",
     "text": [
      "X\n",
      "XX\n",
      "XXX\n",
      "XXXX\n",
      "XXXXX\n"
     ]
    }
   ],
   "source": [
    "#printing patterns\n",
    "for i in range(1,6,1):\n",
    "    print(\"X\"*i)"
   ]
  },
  {
   "cell_type": "code",
   "execution_count": 60,
   "metadata": {},
   "outputs": [
    {
     "name": "stdout",
     "output_type": "stream",
     "text": [
      "      X\n",
      "     XX\n",
      "    XXX\n",
      "   XXXX\n",
      "  XXXXX\n"
     ]
    }
   ],
   "source": [
    "#printing patterns\n",
    "for i in range(1,6,1):\n",
    "    print(\" \"*(6-i),\"X\"*i)"
   ]
  },
  {
   "cell_type": "code",
   "execution_count": 61,
   "metadata": {},
   "outputs": [
    {
     "name": "stdout",
     "output_type": "stream",
     "text": [
      "       X\n",
      "      X X\n",
      "     X X X\n",
      "    X X X X\n",
      "   X X X X X\n"
     ]
    }
   ],
   "source": [
    "#printing patterns\n",
    "for i in range(1,6,1):\n",
    "    print(\" \"*(6-i),\" X\"*i)"
   ]
  },
  {
   "cell_type": "code",
   "execution_count": 49,
   "metadata": {},
   "outputs": [
    {
     "name": "stdout",
     "output_type": "stream",
     "text": [
      "XXXXX\n",
      "XXXX\n",
      "XXX\n",
      "XX\n",
      "X\n"
     ]
    }
   ],
   "source": [
    "#printing patterns\n",
    "for i in range(5,0,-1):\n",
    "    print(\"X\"*i)"
   ]
  },
  {
   "cell_type": "code",
   "execution_count": 58,
   "metadata": {},
   "outputs": [
    {
     "name": "stdout",
     "output_type": "stream",
     "text": [
      "  X X X X X \n",
      "   X X X X \n",
      "    X X X \n",
      "     X X \n",
      "      X \n"
     ]
    }
   ],
   "source": [
    "for i in range(5,0,-1):\n",
    "    print(\" \"*(6-i),\"X \"*i,)"
   ]
  },
  {
   "cell_type": "code",
   "execution_count": 53,
   "metadata": {},
   "outputs": [
    {
     "name": "stdout",
     "output_type": "stream",
     "text": [
      "X\n",
      "XXX\n",
      "XXXXX\n",
      "XXXXXXX\n"
     ]
    }
   ],
   "source": [
    "#printing patterns\n",
    "for i in range(1,8,2):\n",
    "    print(\"X\"*i)"
   ]
  },
  {
   "cell_type": "code",
   "execution_count": null,
   "metadata": {},
   "outputs": [],
   "source": [
    "#float division will remove last element\n",
    "#mod division will return last element\n",
    "#358//10=35\n",
    "#358%10=8"
   ]
  },
  {
   "cell_type": "code",
   "execution_count": 68,
   "metadata": {},
   "outputs": [
    {
     "name": "stdout",
     "output_type": "stream",
     "text": [
      "Armstrong number found: 153\n",
      "Armstrong number found: 370\n",
      "Armstrong number found: 371\n",
      "Armstrong number found: 407\n"
     ]
    }
   ],
   "source": [
    "#list armstrong numbers from 100 to 999\n",
    "\n",
    "for i in range(100,1000,1):\n",
    "    sum=0\n",
    "    dummy=i\n",
    "    while(i>0):\n",
    "        digit=(i%10)\n",
    "        i=i//10\n",
    "        sum += (digit**3)\n",
    "    if dummy==sum:\n",
    "        print(f\"Armstrong number found: {sum}\")\n"
   ]
  }
 ],
 "metadata": {
  "kernelspec": {
   "display_name": "Python 3.9.0 64-bit",
   "language": "python",
   "name": "python3"
  },
  "language_info": {
   "codemirror_mode": {
    "name": "ipython",
    "version": 3
   },
   "file_extension": ".py",
   "mimetype": "text/x-python",
   "name": "python",
   "nbconvert_exporter": "python",
   "pygments_lexer": "ipython3",
   "version": "3.9.0"
  },
  "orig_nbformat": 4,
  "vscode": {
   "interpreter": {
    "hash": "52634da84371cba311ea128a5ea7cdc41ff074b781779e754b270ff9f8153cee"
   }
  }
 },
 "nbformat": 4,
 "nbformat_minor": 2
}
