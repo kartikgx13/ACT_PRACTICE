{
 "cells": [
  {
   "cell_type": "code",
   "execution_count": null,
   "metadata": {},
   "outputs": [],
   "source": [
    "\"\"\"\n",
    "Graph Representation:\n",
    "Adjacency matrix:\n",
    "V * V matrix\n",
    "-->Static\n",
    "-->Easy\n",
    "-->To fill if unweighted\n",
    "-->no edge,cost would be infinite\n",
    "\n",
    "Searching and Traversal is the same thing\n",
    "\n",
    "\n",
    "\"\"\""
   ]
  },
  {
   "cell_type": "code",
   "execution_count": null,
   "metadata": {},
   "outputs": [],
   "source": [
    "\"\"\"\n",
    "BFS:\n",
    "(uses queue)\n",
    "1.accept source,mark it visited add to queue\n",
    "2.Till queue is not empty:\n",
    "   2.1 remove element at queue front\n",
    "   2.2 search all elements adjacent to removed element\n",
    "       ,mark them visited and add them to queue \n",
    "\n",
    "\n",
    "\n",
    "\"\"\""
   ]
  },
  {
   "cell_type": "code",
   "execution_count": null,
   "metadata": {},
   "outputs": [],
   "source": [
    "\"\"\"\n",
    "DFS\n",
    "1.accept source,mark it visited add to stack\n",
    "2.Till stack is not empty:\n",
    "   2.1 Search any one neighbour of element on top of stack\n",
    "       mark it visited and push it onto the stack\n",
    "   2.2 If not found then pop and goto step 2\n",
    "\n",
    "\n",
    "\n",
    "\n",
    "\n",
    "\"\"\""
   ]
  },
  {
   "cell_type": "code",
   "execution_count": null,
   "metadata": {},
   "outputs": [],
   "source": [
    "\"\"\"\n",
    "Pillars of algorithms:\n",
    "-->Input(data given to algo to work on)\n",
    "-->Output(response given to the input)\n",
    "-->Finiteness \n",
    "-->Definitness\n",
    "-->Effectiveness\n",
    "\n",
    "Analysis of Algorithms:\n",
    "So that one can predict time and space complexity\n",
    "and then select one.\n",
    "\n",
    "-->Priori Analysis:Before implementation(pen and paper)\n",
    "-->Posteriori Analysis:After implementation(using software by professionals)\n",
    "\n",
    "Time Complexity:\n",
    "Time to compile+Time to execute\n",
    "\n",
    "Space Complexity:\n",
    "Instructions space+Variables space+Constants space\n",
    "\n",
    "Time Analysis:\n",
    "Comments-->0\n",
    "Operation-->1\n",
    "Loop-->n+k\n",
    "\n",
    "eg:\n",
    "i=1                  -->1\n",
    "while i<=n:          -->n+1 \n",
    "    print(i)         -->n\n",
    "    i += 1           -->n\n",
    "Time complexity=3n+2\n",
    "\n",
    "i=0                  -->1\n",
    "while i<=n+2:        -->2n\n",
    "    print(i)         -->n+2\n",
    "    i += 1           -->n+2\n",
    "\n",
    "Time=4n+5(This is time in terms of steps)\n",
    "\n",
    "\n",
    "\"\"\""
   ]
  },
  {
   "cell_type": "code",
   "execution_count": null,
   "metadata": {},
   "outputs": [],
   "source": [
    "\"\"\"\n",
    "Asymptotic Notations:\n",
    "Unit of recording complexity mathematically\n",
    "1>log n>n>n^2>2^n>n!\n",
    "\n",
    "Big-O:\n",
    "Represents worst case of algorithm\n",
    "\n",
    "Theta Notation:\n",
    "Represents average case of algorithm\n",
    "\n",
    "Omega notation:\n",
    "Represents best case of algorithm\n",
    "\n",
    "Out of these 3 theta is considered the best\n",
    "because it analyzes the best and worst case \n",
    "and takes and average of it.\n",
    "\n",
    "Omega is least used as it only discusses about the\n",
    "best case.Big-O notation is the most used.\n",
    "\"\"\""
   ]
  },
  {
   "cell_type": "code",
   "execution_count": null,
   "metadata": {},
   "outputs": [],
   "source": [
    "\"\"\"\n",
    "Big-O notation\n",
    "Rules:\n",
    "Constant has no value\n",
    "in addition use max(worst only)\n",
    "in nesting multiply and then use addition rule\n",
    "\n",
    "eg:\n",
    "O(100n)==O(n)\n",
    "O(n)+O(n^3)+O(n^2)==O(n^3)\n",
    "\n",
    "\n",
    "\"\"\""
   ]
  }
 ],
 "metadata": {
  "kernelspec": {
   "display_name": "Python 3",
   "language": "python",
   "name": "python3"
  },
  "language_info": {
   "name": "python",
   "version": "3.9.0 (tags/v3.9.0:9cf6752, Oct  5 2020, 15:34:40) [MSC v.1927 64 bit (AMD64)]"
  },
  "orig_nbformat": 4,
  "vscode": {
   "interpreter": {
    "hash": "52634da84371cba311ea128a5ea7cdc41ff074b781779e754b270ff9f8153cee"
   }
  }
 },
 "nbformat": 4,
 "nbformat_minor": 2
}
