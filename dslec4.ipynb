{
 "cells": [
  {
   "cell_type": "code",
   "execution_count": null,
   "metadata": {},
   "outputs": [],
   "source": [
    "\"\"\"\n",
    "Types of tree:\n",
    "-->Binary tree(used in most search algos)\n",
    "-->Normal tree(used in cloude storage)\n",
    "\n",
    "Types of Binary tree:\n",
    "1.Complete BT:\n",
    "All leaf nodes are at same height\n",
    "\n",
    "2.Nearly Complete:\n",
    "All leaf nodes at same depth except one node which is at depth +1\n",
    "\n",
    "Construction of Binary tree:\n",
    "-->There is left and right sub tree\n",
    "\n",
    "\"\"\""
   ]
  },
  {
   "cell_type": "code",
   "execution_count": null,
   "metadata": {},
   "outputs": [],
   "source": [
    "\"\"\"\n",
    "Binary Search Tree:\n",
    "-->Any data less than parent node then data places on left of it\n",
    "-->Any data greater than parent node placed on right\n",
    "\n",
    "eg: 50,10,85,25,100,72,88\n",
    "\n",
    "                         50\n",
    "                        /  \\\n",
    "                       10   85\n",
    "                        \\   / \\\n",
    "                        25 72  100   \n",
    "\n",
    "eg: 10,2,7,1,20,15,11,22,28\n",
    "                         10\n",
    "                        /   \\                   \n",
    "                       2     20 \n",
    "                      /  \\   /  \\\n",
    "                     1    7 15   22\n",
    "                            /     \\\n",
    "                           11      28\n",
    "\n",
    "eg: 50,25,12,60,80,55,50,4,6,28\n",
    "                            \n",
    "                            50\n",
    "                           /   \\\n",
    "                         25     60\n",
    "                        /  \\    /  \\ \n",
    "                       12   28 55   80 \n",
    "                      /        /\n",
    "                     4        50 \n",
    "                      \\       \n",
    "                       6                       \n",
    "\n",
    "\n",
    "\"\"\""
   ]
  },
  {
   "cell_type": "code",
   "execution_count": null,
   "metadata": {},
   "outputs": [],
   "source": [
    "\"\"\"\n",
    "Traversal of tree:\n",
    "-->order of visiting each node\n",
    "Types of traversal:\n",
    "-->Preorder  (+ab)                           +(p)\n",
    "-->Inorder   (a+b)                            / \\\n",
    "-->Postorder (ab+)                           a   b\n",
    "                                           (L)   (R)\n",
    "\n",
    "\"\"\""
   ]
  },
  {
   "cell_type": "code",
   "execution_count": null,
   "metadata": {},
   "outputs": [],
   "source": [
    "\"\"\"\n",
    "Imp Question:\n",
    "How to sort n natural numbers using tree:\n",
    "-->First create a BST\n",
    "-->Then perform inorder traversal to sort the elements\n",
    "\n",
    "\"\"\""
   ]
  },
  {
   "cell_type": "code",
   "execution_count": null,
   "metadata": {},
   "outputs": [],
   "source": [
    "\"\"\"\n",
    "Threaded Tree:\n",
    "A specialized binary tree \n",
    "designed for inorder traversal\n",
    "\n",
    "Importance of Inorder:\n",
    "Only traversal which returns elements in sequential order\n",
    "\n",
    "Usually to perform inorder traversal we use auxillart stack or\n",
    "recursion which is time consuming hence threaded tree used\n",
    "\n",
    "A binary tree is threaded by making all right child pointers that would\n",
    "normally be NULL point to the inorder successor of the node.\n",
    "\n",
    "Double threaded:\n",
    "Where both left and right NULL pointers are made to \n",
    "point to their inorder predecessor and successor\n",
    "\"\"\""
   ]
  },
  {
   "cell_type": "code",
   "execution_count": null,
   "metadata": {},
   "outputs": [],
   "source": [
    "\"\"\"\n",
    "-->The data which is frequently searched\n",
    "is kept at lower depth in search engines\n",
    "\n",
    "AVL tree:\n",
    "-->self balancing tree\n",
    "-->nearly balanced(BF-0,1,-1)\n",
    "-->variation of BST:\n",
    "insertion one at a time in BST manner\n",
    "after every insertion recalculate BF from bottom to top\n",
    "stop at 1st unbalanced node\n",
    "plot 3 node path from point of unbalanced\n",
    "to point of new instead\n",
    "check case and apply rotation\n",
    "Rotations:\n",
    "LOL\n",
    "LOR\n",
    "ROR\n",
    "ROL\n",
    "\"\"\""
   ]
  }
 ],
 "metadata": {
  "kernelspec": {
   "display_name": "Python 3",
   "language": "python",
   "name": "python3"
  },
  "language_info": {
   "name": "python",
   "version": "3.9.0 (tags/v3.9.0:9cf6752, Oct  5 2020, 15:34:40) [MSC v.1927 64 bit (AMD64)]"
  },
  "orig_nbformat": 4,
  "vscode": {
   "interpreter": {
    "hash": "52634da84371cba311ea128a5ea7cdc41ff074b781779e754b270ff9f8153cee"
   }
  }
 },
 "nbformat": 4,
 "nbformat_minor": 2
}
