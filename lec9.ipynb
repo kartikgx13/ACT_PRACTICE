{
 "cells": [
  {
   "cell_type": "code",
   "execution_count": null,
   "metadata": {},
   "outputs": [],
   "source": [
    "#exception handling\n",
    "\"\"\" \n",
    "a state of program which disturbs the flow of it\n",
    "--> logical error\n",
    "-->input output error\n",
    "-->hardware failure error\n",
    "\n",
    "-->exception is a report of error i.e error causes\n",
    "exception\n",
    "\n",
    "Important points:\n",
    "-->error is a state in which normal execution is not possible\n",
    "reasons:\n",
    "failure of hardware or software\n",
    "wrong I/O\n",
    "logical condition\n",
    "\n",
    "exception:report of error\n",
    "in state of error system generates an exception\n",
    "\n",
    "Exception handling:\n",
    "way either to continue normal or alternate way\n",
    "flow of code or safe close or both\n",
    "\n",
    "safe closure is like closing the error program and not affecting \n",
    "the entire system \n",
    "\n",
    "blocks in exception handling:\n",
    "try:\n",
    "\n",
    "except:\n",
    "\n",
    "else:\n",
    "\n",
    "finally:\n",
    "\n",
    "Normal flow:\n",
    "-->try-->else-->finally\n",
    "\n",
    "Error:\n",
    "-->try(partial)-->except-->finally\n",
    "\n",
    "Note:\n",
    "-->One try can have multiple catch\n",
    "\n",
    "\"\"\""
   ]
  },
  {
   "cell_type": "code",
   "execution_count": 1,
   "metadata": {},
   "outputs": [
    {
     "ename": "ZeroDivisionError",
     "evalue": "division by zero",
     "output_type": "error",
     "traceback": [
      "\u001b[1;31m---------------------------------------------------------------------------\u001b[0m",
      "\u001b[1;31mZeroDivisionError\u001b[0m                         Traceback (most recent call last)",
      "\u001b[1;32mc:\\ACT_PRACTICE\\lec9.ipynb Cell 2\u001b[0m in \u001b[0;36m<module>\u001b[1;34m\u001b[0m\n\u001b[0;32m      <a href='vscode-notebook-cell:/c%3A/ACT_PRACTICE/lec9.ipynb#W1sZmlsZQ%3D%3D?line=2'>3</a>\u001b[0m a\u001b[39m=\u001b[39m\u001b[39mint\u001b[39m(\u001b[39minput\u001b[39m())\n\u001b[0;32m      <a href='vscode-notebook-cell:/c%3A/ACT_PRACTICE/lec9.ipynb#W1sZmlsZQ%3D%3D?line=3'>4</a>\u001b[0m b\u001b[39m=\u001b[39m\u001b[39mint\u001b[39m(\u001b[39minput\u001b[39m())\n\u001b[1;32m----> <a href='vscode-notebook-cell:/c%3A/ACT_PRACTICE/lec9.ipynb#W1sZmlsZQ%3D%3D?line=4'>5</a>\u001b[0m c\u001b[39m=\u001b[39ma\u001b[39m/\u001b[39;49mb\n\u001b[0;32m      <a href='vscode-notebook-cell:/c%3A/ACT_PRACTICE/lec9.ipynb#W1sZmlsZQ%3D%3D?line=5'>6</a>\u001b[0m \u001b[39mprint\u001b[39m(c)\n\u001b[0;32m      <a href='vscode-notebook-cell:/c%3A/ACT_PRACTICE/lec9.ipynb#W1sZmlsZQ%3D%3D?line=6'>7</a>\u001b[0m \u001b[39mprint\u001b[39m(\u001b[39m\"\u001b[39m\u001b[39mWorking\u001b[39m\u001b[39m\"\u001b[39m)\n",
      "\u001b[1;31mZeroDivisionError\u001b[0m: division by zero"
     ]
    }
   ],
   "source": [
    "#we only trap the error and not determine the type\n",
    "#normal flow\n",
    "a=int(input())\n",
    "b=int(input())\n",
    "c=a/b\n",
    "print(c)\n",
    "print(\"Working\")"
   ]
  },
  {
   "cell_type": "code",
   "execution_count": 4,
   "metadata": {},
   "outputs": [
    {
     "name": "stdout",
     "output_type": "stream",
     "text": [
      "Exception\n",
      "By kartik\n",
      "Still alive\n",
      "Peace\n"
     ]
    }
   ],
   "source": [
    "#even if error occurs normal flow of program is not\n",
    "#disturbed\n",
    "#here there can be alternate ways\n",
    "#to generate error i.e entering string for a\n",
    "#or divide by 0\n",
    "try:\n",
    "    a=int(input())\n",
    "    b=int(input())\n",
    "    c=a/b\n",
    "except Exception:\n",
    "    print(\"Exception\")\n",
    "else:\n",
    "    print(c)\n",
    "finally:\n",
    "    print(\"By kartik\")\n",
    "\n",
    "print(\"Still alive\")\n",
    "print(\"Peace\")"
   ]
  },
  {
   "cell_type": "code",
   "execution_count": 5,
   "metadata": {},
   "outputs": [
    {
     "name": "stdout",
     "output_type": "stream",
     "text": [
      "Exception invalid literal for int() with base 10: 'dadasd'\n",
      "By kartik\n",
      "Still alive\n",
      "Peace\n"
     ]
    }
   ],
   "source": [
    "#here as arg will also print\n",
    "#the type of error\n",
    "#here the else block is optional\n",
    "#the two minimum blocks required are try and except\n",
    "\n",
    "try:\n",
    "    a=int(input())\n",
    "    b=int(input())\n",
    "    c=a/b\n",
    "except Exception as arg:\n",
    "    print(\"Exception\",arg)\n",
    "else:\n",
    "    print(c)\n",
    "finally:\n",
    "    print(\"By kartik\")\n",
    "\n",
    "print(\"Still alive\")\n",
    "print(\"Peace\")"
   ]
  },
  {
   "cell_type": "code",
   "execution_count": 6,
   "metadata": {},
   "outputs": [
    {
     "name": "stdout",
     "output_type": "stream",
     "text": [
      "By kartik\n"
     ]
    },
    {
     "ename": "ZeroDivisionError",
     "evalue": "division by zero",
     "output_type": "error",
     "traceback": [
      "\u001b[1;31m---------------------------------------------------------------------------\u001b[0m",
      "\u001b[1;31mZeroDivisionError\u001b[0m                         Traceback (most recent call last)",
      "\u001b[1;32mc:\\ACT_PRACTICE\\lec9.ipynb Cell 5\u001b[0m in \u001b[0;36m<module>\u001b[1;34m\u001b[0m\n\u001b[0;32m      <a href='vscode-notebook-cell:/c%3A/ACT_PRACTICE/lec9.ipynb#W4sZmlsZQ%3D%3D?line=5'>6</a>\u001b[0m     a\u001b[39m=\u001b[39m\u001b[39mint\u001b[39m(\u001b[39minput\u001b[39m())\n\u001b[0;32m      <a href='vscode-notebook-cell:/c%3A/ACT_PRACTICE/lec9.ipynb#W4sZmlsZQ%3D%3D?line=6'>7</a>\u001b[0m     b\u001b[39m=\u001b[39m\u001b[39mint\u001b[39m(\u001b[39minput\u001b[39m())\n\u001b[1;32m----> <a href='vscode-notebook-cell:/c%3A/ACT_PRACTICE/lec9.ipynb#W4sZmlsZQ%3D%3D?line=7'>8</a>\u001b[0m     c\u001b[39m=\u001b[39ma\u001b[39m/\u001b[39;49mb\n\u001b[0;32m      <a href='vscode-notebook-cell:/c%3A/ACT_PRACTICE/lec9.ipynb#W4sZmlsZQ%3D%3D?line=8'>9</a>\u001b[0m \u001b[39mfinally\u001b[39;00m:\n\u001b[0;32m     <a href='vscode-notebook-cell:/c%3A/ACT_PRACTICE/lec9.ipynb#W4sZmlsZQ%3D%3D?line=9'>10</a>\u001b[0m     \u001b[39mprint\u001b[39m(\u001b[39m\"\u001b[39m\u001b[39mBy kartik\u001b[39m\u001b[39m\"\u001b[39m)\n",
      "\u001b[1;31mZeroDivisionError\u001b[0m: division by zero"
     ]
    }
   ],
   "source": [
    "#here first the try block will run\n",
    "#after an error occurs finally block will run \n",
    "#and after this the control will shift back to\n",
    "#try block and then error will be shown\n",
    "try:\n",
    "    a=int(input())\n",
    "    b=int(input())\n",
    "    c=a/b\n",
    "finally:\n",
    "    print(\"By kartik\")\n",
    "\n",
    "print(\"Still alive\")\n",
    "print(\"Peace\")"
   ]
  }
 ],
 "metadata": {
  "kernelspec": {
   "display_name": "Python 3",
   "language": "python",
   "name": "python3"
  },
  "language_info": {
   "codemirror_mode": {
    "name": "ipython",
    "version": 3
   },
   "file_extension": ".py",
   "mimetype": "text/x-python",
   "name": "python",
   "nbconvert_exporter": "python",
   "pygments_lexer": "ipython3",
   "version": "3.9.0"
  },
  "orig_nbformat": 4,
  "vscode": {
   "interpreter": {
    "hash": "52634da84371cba311ea128a5ea7cdc41ff074b781779e754b270ff9f8153cee"
   }
  }
 },
 "nbformat": 4,
 "nbformat_minor": 2
}
